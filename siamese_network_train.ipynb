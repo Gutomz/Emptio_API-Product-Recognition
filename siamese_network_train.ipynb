{
  "nbformat": 4,
  "nbformat_minor": 0,
  "metadata": {
    "colab": {
      "name": "siamese_network_train.ipynb",
      "provenance": [],
      "collapsed_sections": [
        "JHID5LPLsiUq",
        "E5LtA-XApQCI",
        "ZHQLSUjugp3W",
        "n7PK1zCJrxGJ"
      ],
      "machine_shape": "hm"
    },
    "kernelspec": {
      "name": "python3",
      "display_name": "Python 3"
    },
    "language_info": {
      "name": "python"
    },
    "accelerator": "GPU"
  },
  "cells": [
    {
      "cell_type": "markdown",
      "metadata": {
        "id": "OicbHeXQpZz6"
      },
      "source": [
        "# Siamese Neural Network"
      ]
    },
    {
      "cell_type": "code",
      "metadata": {
        "id": "Oojyn2TBpVMZ"
      },
      "source": [
        "import io\n",
        "import os\n",
        "import numpy as np\n",
        "import numpy.random as rng\n",
        "\n",
        "from PIL import Image\n",
        "\n",
        "import tensorflow as tf\n",
        "from tensorflow.keras.models import Model, Sequential\n",
        "from tensorflow.keras.optimizers import Adam\n",
        "from tensorflow.keras.layers import Input, Conv2D, MaxPooling2D, Flatten, Dense, Lambda, Dropout\n",
        "from tensorflow.keras.layers.experimental.preprocessing import RandomFlip, RandomRotation\n",
        "from tensorflow.keras.regularizers import l2\n",
        "from tensorflow.keras import backend as K\n",
        "\n",
        "import matplotlib.pyplot as plt\n",
        "%matplotlib inline"
      ],
      "execution_count": null,
      "outputs": []
    },
    {
      "cell_type": "markdown",
      "metadata": {
        "id": "pWKb5nkL0WwX"
      },
      "source": [
        "## Load Products Dataset"
      ]
    },
    {
      "cell_type": "code",
      "metadata": {
        "id": "anBFp3rO0Wwg"
      },
      "source": [
        "import os\n",
        "import imageio\n",
        "import shutil\n",
        "\n",
        "from zipfile import ZipFile\n",
        "\n",
        "cur_dir = os.getcwd()"
      ],
      "execution_count": null,
      "outputs": []
    },
    {
      "cell_type": "code",
      "metadata": {
        "id": "o3ZkM5C_0Wwg"
      },
      "source": [
        "shutil.rmtree('./train', ignore_errors=True)\n",
        "shutil.rmtree('./test', ignore_errors=True)\n",
        "shutil.rmtree('./validation', ignore_errors=True)\n",
        "shutil.rmtree('./sample_data', ignore_errors=True)"
      ],
      "execution_count": null,
      "outputs": []
    },
    {
      "cell_type": "code",
      "metadata": {
        "colab": {
          "base_uri": "https://localhost:8080/"
        },
        "id": "u6wEvp7t0Wwg",
        "outputId": "326c0414-9e64-4854-9f58-e6179fbd3a98"
      },
      "source": [
        "data_folder_path = os.path.join(os.getcwd(), \"drive/MyDrive/TCC/train_data\")\n",
        "print(data_folder_path)\n",
        "\n",
        "train_zip_path = os.path.join(data_folder_path, \"train.zip\")\n",
        "print(train_zip_path)\n",
        "\n",
        "test_zip_path = os.path.join(data_folder_path, \"test.zip\")\n",
        "print(test_zip_path)\n",
        "\n",
        "validation_zip_path = os.path.join(data_folder_path, \"validation.zip\")\n",
        "print(validation_zip_path)"
      ],
      "execution_count": null,
      "outputs": [
        {
          "output_type": "stream",
          "name": "stdout",
          "text": [
            "/content/drive/MyDrive/TCC/train_data\n",
            "/content/drive/MyDrive/TCC/train_data/train.zip\n",
            "/content/drive/MyDrive/TCC/train_data/test.zip\n",
            "/content/drive/MyDrive/TCC/train_data/validation.zip\n"
          ]
        }
      ]
    },
    {
      "cell_type": "code",
      "metadata": {
        "colab": {
          "base_uri": "https://localhost:8080/"
        },
        "id": "GRTXDri-0Wwh",
        "outputId": "53ebedc6-35d7-40e1-f391-bdb98aa127a0"
      },
      "source": [
        "with ZipFile(train_zip_path, 'r') as zip:\n",
        "    zip.extractall()\n",
        "    print('Unzipped train.zip')\n",
        "\n",
        "with ZipFile(test_zip_path, 'r') as zip:\n",
        "    zip.extractall()\n",
        "    print('Unzipped test.zip')\n",
        "\n",
        "with ZipFile(validation_zip_path, 'r') as zip:\n",
        "    zip.extractall()\n",
        "    print('Unzipped validation.zip')"
      ],
      "execution_count": null,
      "outputs": [
        {
          "output_type": "stream",
          "name": "stdout",
          "text": [
            "Unzipped train.zip\n",
            "Unzipped test.zip\n",
            "Unzipped validation.zip\n"
          ]
        }
      ]
    },
    {
      "cell_type": "code",
      "metadata": {
        "id": "oZxpY9m50Wwh"
      },
      "source": [
        "def loadData(s = \"train\"):\n",
        "  if s == \"train\":\n",
        "    data_path = os.path.join(cur_dir, \"train\")\n",
        "  elif s == \"test\":\n",
        "    data_path = os.path.join(cur_dir, \"test\")\n",
        "  else:\n",
        "    data_path = os.path.join(cur_dir, \"validation\")\n",
        "\n",
        "  x = []\n",
        "  y = []\n",
        "  classes = []\n",
        "\n",
        "  for folder in os.listdir(data_path):\n",
        "    folder_path = os.path.join(data_path, folder)\n",
        "\n",
        "    class_num = len(classes)\n",
        "    classes.append(folder)\n",
        "    images = []\n",
        "    for filename in os.listdir(folder_path):\n",
        "      image_path = os.path.join(folder_path, filename)\n",
        "      image = imageio.imread(image_path)\n",
        "      images.append((image).astype(np.float32) / 255.0)\n",
        "\n",
        "    x.append(np.stack(images))\n",
        "    y.append(class_num)\n",
        "\n",
        "  return np.stack(x), np.stack(y), classes"
      ],
      "execution_count": null,
      "outputs": []
    },
    {
      "cell_type": "code",
      "metadata": {
        "colab": {
          "base_uri": "https://localhost:8080/"
        },
        "id": "9mdNaKVB0Wwh",
        "outputId": "a76f229c-5217-44da-8127-08ac7eb261d4"
      },
      "source": [
        "x_train, y_train, class_names = loadData(\"train\")\n",
        "x_test, y_test, test_class_names = loadData(\"test\")\n",
        "x_validation, y_validation, validation_class_names = loadData(\"validation\")\n",
        "print(\"Train:\\t\\t\", x_train.shape)\n",
        "print(\"Test:\\t\\t\", x_test.shape)\n",
        "print(\"Validation:\\t\", x_validation.shape)"
      ],
      "execution_count": null,
      "outputs": [
        {
          "output_type": "stream",
          "name": "stdout",
          "text": [
            "Train:\t\t (11, 2280, 128, 128, 3)\n",
            "Test:\t\t (11, 329, 128, 128, 3)\n",
            "Validation:\t (11, 839, 128, 128, 3)\n"
          ]
        }
      ]
    },
    {
      "cell_type": "code",
      "metadata": {
        "id": "Y16KxP9lSbqS"
      },
      "source": [
        "x_train = np.append(x_train, x_validation, axis=1)"
      ],
      "execution_count": null,
      "outputs": []
    },
    {
      "cell_type": "code",
      "metadata": {
        "colab": {
          "base_uri": "https://localhost:8080/"
        },
        "id": "2XX4V50jTba1",
        "outputId": "132a8eb3-383c-4d85-87d3-9a32590fa4be"
      },
      "source": [
        "x_train.shape"
      ],
      "execution_count": null,
      "outputs": [
        {
          "output_type": "execute_result",
          "data": {
            "text/plain": [
              "(11, 3119, 128, 128, 3)"
            ]
          },
          "metadata": {},
          "execution_count": 9
        }
      ]
    },
    {
      "cell_type": "code",
      "metadata": {
        "colab": {
          "base_uri": "https://localhost:8080/"
        },
        "id": "hNzOgUlE0Wwh",
        "outputId": "05937f80-9910-4347-8f1d-c50b6a8e8055"
      },
      "source": [
        "classes = np.arange(len(class_names)).tolist()\n",
        "print(\"Indexes:\\t\", classes)\n",
        "print(\"Train:\\t\\t\", class_names)\n",
        "print(\"Test:\\t\\t\", test_class_names)\n",
        "print(\"Validation:\\t\", validation_class_names)"
      ],
      "execution_count": null,
      "outputs": [
        {
          "output_type": "stream",
          "name": "stdout",
          "text": [
            "Indexes:\t [0, 1, 2, 3, 4, 5, 6, 7, 8, 9, 10]\n",
            "Train:\t\t ['pepsi-garrafa', 'negresco', 'coca-lata', 'guarana-lata', 'feijao', 'arroz', 'coca-garrafa', 'laranja', 'milho-lata', 'maca', 'acucar']\n",
            "Test:\t\t ['pepsi-garrafa', 'negresco', 'coca-lata', 'guarana-lata', 'feijao', 'arroz', 'coca-garrafa', 'laranja', 'milho-lata', 'maca', 'acucar']\n",
            "Validation:\t ['pepsi-garrafa', 'negresco', 'coca-lata', 'guarana-lata', 'feijao', 'arroz', 'coca-garrafa', 'laranja', 'milho-lata', 'maca', 'acucar']\n"
          ]
        }
      ]
    },
    {
      "cell_type": "code",
      "metadata": {
        "colab": {
          "base_uri": "https://localhost:8080/",
          "height": 286
        },
        "id": "9xi30MRk0Wwi",
        "outputId": "a27a3978-9244-440f-8403-62f84efc7541"
      },
      "source": [
        "index = 3\n",
        "image_idx = 10\n",
        "plt.imshow(x_train[index, image_idx])\n",
        "class_names[y_train[index]]"
      ],
      "execution_count": null,
      "outputs": [
        {
          "output_type": "execute_result",
          "data": {
            "application/vnd.google.colaboratory.intrinsic+json": {
              "type": "string"
            },
            "text/plain": [
              "'guarana-lata'"
            ]
          },
          "metadata": {},
          "execution_count": 11
        },
        {
          "output_type": "display_data",
          "data": {
            "image/png": "[encoded data removed]",
            "text/plain": [
              "<Figure size 432x288 with 1 Axes>"
            ]
          },
          "metadata": {
            "needs_background": "light"
          }
        }
      ]
    },
    {
      "cell_type": "markdown",
      "metadata": {
        "id": "JHID5LPLsiUq"
      },
      "source": [
        "## Load Cifar 10 Dataset"
      ]
    },
    {
      "cell_type": "code",
      "metadata": {
        "id": "i73Ke7kwrDOs"
      },
      "source": [
        "from tensorflow.keras.datasets import cifar10"
      ],
      "execution_count": null,
      "outputs": []
    },
    {
      "cell_type": "code",
      "metadata": {
        "id": "SxXte_WV3sLe"
      },
      "source": [
        "class_names = [\"airplane\", \"automobile\", \"bird\", \"cat\", \"deer\", \"dog\", \"frog\", \"horse\", \"ship\", \"truck\"]\n",
        "(x_train_master, y_train_master), (x_test_master, y_test_master) = cifar10.load_data()"
      ],
      "execution_count": null,
      "outputs": []
    },
    {
      "cell_type": "code",
      "metadata": {
        "id": "eDrJSKsq4P3d"
      },
      "source": [
        "x_train_master = x_train_master / 255.0\n",
        "x_test_master = x_test_master / 255.0"
      ],
      "execution_count": null,
      "outputs": []
    },
    {
      "cell_type": "code",
      "metadata": {
        "id": "FoeBkS5UgV9_"
      },
      "source": [
        "def loadData(x, y, classes):\n",
        "  e = []\n",
        "  for c in range(len(classes)):\n",
        "    c_idx = [i for i, v in enumerate(y) if v[0] == c]\n",
        "\n",
        "    r = []\n",
        "    for se in x[c_idx]:\n",
        "      i = Image.fromarray(np.uint8(se))\n",
        "      i = i.resize((150, 150))\n",
        "      i = np.array(i)\n",
        "      r.append(i)\n",
        "\n",
        "    e.append(np.stack(r))\n",
        "\n",
        "  return np.stack(e)"
      ],
      "execution_count": null,
      "outputs": []
    },
    {
      "cell_type": "code",
      "metadata": {
        "id": "4T3WokOyhEsn"
      },
      "source": [
        "x_train = loadData(x_train_master, y_train_master, class_names)\n",
        "x_test = loadData(x_test_master, y_test_master, class_names)"
      ],
      "execution_count": null,
      "outputs": []
    },
    {
      "cell_type": "code",
      "metadata": {
        "id": "CXRhMS3bPS0T"
      },
      "source": [
        "print(x_train.shape)\n",
        "print(x_test.shape)"
      ],
      "execution_count": null,
      "outputs": []
    },
    {
      "cell_type": "code",
      "metadata": {
        "id": "mQW4cJjYJ9ii"
      },
      "source": [
        "x_train = x_train / 255.0\n",
        "x_test = x_test / 255.0"
      ],
      "execution_count": null,
      "outputs": []
    },
    {
      "cell_type": "code",
      "metadata": {
        "id": "W6kctQkx5_Bd"
      },
      "source": [
        "index = 0\n",
        "plt.imshow(x_train_master[index])\n",
        "print(y_train_master[index, 0])\n",
        "class_names[y_train_master[index, 0]]"
      ],
      "execution_count": null,
      "outputs": []
    },
    {
      "cell_type": "code",
      "metadata": {
        "id": "e_E6Lu-gK8II"
      },
      "source": [
        "index = 4\n",
        "example = 3\n",
        "plt.imshow(x_train[index, example])\n",
        "class_names[index]"
      ],
      "execution_count": null,
      "outputs": []
    },
    {
      "cell_type": "code",
      "metadata": {
        "id": "87b1fkJg5dv4"
      },
      "source": [
        "(_, _, w, h, c) = x_train.shape\n",
        "input_shape = (w, h, c)\n",
        "print(input_shape)"
      ],
      "execution_count": null,
      "outputs": []
    },
    {
      "cell_type": "markdown",
      "metadata": {
        "id": "E5LtA-XApQCI"
      },
      "source": [
        "## Load Stanford Online Product Dataset"
      ]
    },
    {
      "cell_type": "code",
      "metadata": {
        "id": "2DnOY7ePpWJL"
      },
      "source": [
        "import tensorflow_datasets as tfds"
      ],
      "execution_count": null,
      "outputs": []
    },
    {
      "cell_type": "code",
      "metadata": {
        "id": "DoJh_bJduwVV"
      },
      "source": [
        "ds = tfds.load('stanford_online_products', split='train')"
      ],
      "execution_count": null,
      "outputs": []
    },
    {
      "cell_type": "code",
      "metadata": {
        "id": "gZFfl-zS8fQK"
      },
      "source": [
        "def convertData(ds):\n",
        "  x = []\n",
        "  y = []\n",
        "  classes = {}\n",
        "\n",
        "  for e in ds.take(-1):\n",
        "    image = e[\"image\"].numpy()\n",
        "    label = \"{}\".format(e[\"class_id\"].numpy())\n",
        "\n",
        "    image = Image.fromarray(np.uint8(image))\n",
        "    image = image.resize((150, 150))\n",
        "    image = np.array(image)\n",
        "\n",
        "    x.append(image)\n",
        "    y.append(label)\n",
        "\n",
        "    if not label in classes.keys():\n",
        "      classes[label] = 1\n",
        "    else:\n",
        "      classes[label] += 1\n",
        "\n",
        "  return np.array(x), y, classes"
      ],
      "execution_count": null,
      "outputs": []
    },
    {
      "cell_type": "code",
      "metadata": {
        "id": "L_sG-ee5_t4z"
      },
      "source": [
        "x_train_master, y_train_master, c_train_master = convertData(ds)\n",
        "class_names = list(c_train_master.keys())"
      ],
      "execution_count": null,
      "outputs": []
    },
    {
      "cell_type": "code",
      "metadata": {
        "id": "aSSSE-vMGvg7"
      },
      "source": [
        "def getMinExamplesPerClass(classes):\n",
        "  min_value = 1000\n",
        "\n",
        "  for k in c_train_master.keys():\n",
        "    if c_train_master[k] < min_value:\n",
        "      min_value = c_train_master[k]\n",
        "\n",
        "  return min_value"
      ],
      "execution_count": null,
      "outputs": []
    },
    {
      "cell_type": "code",
      "metadata": {
        "id": "Z4wNSkp_E1jd"
      },
      "source": [
        "def loadData(x, y, classes):\n",
        "  max = getMinExamplesPerClass(classes)\n",
        "  e = []\n",
        "  for c in range(len(classes.keys())):\n",
        "    c_idx = [i for i, v in enumerate(y) if v == \"{}\".format(c)]\n",
        "    c_idx = rng.choice(c_idx, max, replace=False)\n",
        "    e.append(np.stack(x[c_idx]))\n",
        "\n",
        "  return np.stack(e)"
      ],
      "execution_count": null,
      "outputs": []
    },
    {
      "cell_type": "code",
      "metadata": {
        "id": "s9a77-PFCiwb"
      },
      "source": [
        "x_train = loadData(x_train_master, y_train_master, c_train_master)"
      ],
      "execution_count": null,
      "outputs": []
    },
    {
      "cell_type": "code",
      "metadata": {
        "id": "AkstEBq3Roo8"
      },
      "source": [
        "index = 4\n",
        "plt.imshow(x_train_master[index])\n",
        "class_names[int(y_train_master[index])]"
      ],
      "execution_count": null,
      "outputs": []
    },
    {
      "cell_type": "markdown",
      "metadata": {
        "id": "vQSduSKT6-_m"
      },
      "source": [
        "## Load Siamese Model"
      ]
    },
    {
      "cell_type": "code",
      "metadata": {
        "colab": {
          "base_uri": "https://localhost:8080/"
        },
        "id": "L-1WJ0js1q-K",
        "outputId": "7f3308db-3d74-44e9-c087-3a8993b1338e"
      },
      "source": [
        "(_, _, w, h, c) = x_train.shape\n",
        "input_shape = (w, h, c)\n",
        "input_shape"
      ],
      "execution_count": null,
      "outputs": [
        {
          "output_type": "execute_result",
          "data": {
            "text/plain": [
              "(128, 128, 3)"
            ]
          },
          "metadata": {},
          "execution_count": 12
        }
      ]
    },
    {
      "cell_type": "code",
      "metadata": {
        "id": "byqGlFoUPUCy"
      },
      "source": [
        "def initialize_weights(shape, dtype=None):\n",
        "    \"\"\"\n",
        "        The paper, http://www.cs.utoronto.ca/~gkoch/files/msc-thesis.pdf\n",
        "        suggests to initialize CNN layer weights with mean as 0.0 and standard deviation of 0.01\n",
        "    \"\"\"\n",
        "    return np.random.normal(loc = 0.0, scale = 1e-2, size = shape)"
      ],
      "execution_count": null,
      "outputs": []
    },
    {
      "cell_type": "code",
      "metadata": {
        "id": "PvFkyQyVPV1A"
      },
      "source": [
        "def initialize_bias(shape, dtype=None):\n",
        "    \"\"\"\n",
        "        The paper, http://www.cs.utoronto.ca/~gkoch/files/msc-thesis.pdf\n",
        "        suggests to initialize CNN layer bias with mean as 0.5 and standard deviation of 0.01\n",
        "    \"\"\"\n",
        "    return np.random.normal(loc = 0.5, scale = 1e-2, size = shape)"
      ],
      "execution_count": null,
      "outputs": []
    },
    {
      "cell_type": "code",
      "metadata": {
        "id": "KYoA4Dym9BZp"
      },
      "source": [
        "def get_embedding_model(input_shape):\n",
        "    model = Sequential()\n",
        "    model.add(Conv2D(64, (10,10), activation='relu', \n",
        "                     kernel_initializer=initialize_weights, kernel_regularizer=l2(2e-4)))\n",
        "    model.add(Conv2D(64, (10,10), activation='relu', \n",
        "                     kernel_initializer=initialize_weights, kernel_regularizer=l2(2e-4)))\n",
        "    model.add(MaxPooling2D())\n",
        "    model.add(Dropout(0.2))\n",
        "    model.add(Conv2D(128, (7,7), activation='relu', kernel_initializer=initialize_weights,\n",
        "                     bias_initializer=initialize_bias, kernel_regularizer=l2(2e-4)))\n",
        "    model.add(MaxPooling2D())\n",
        "    model.add(Conv2D(128, (4,4), activation='relu', kernel_initializer=initialize_weights,\n",
        "                     bias_initializer=initialize_bias, kernel_regularizer=l2(2e-4)))\n",
        "    model.add(MaxPooling2D())\n",
        "    model.add(Dropout(0.2))\n",
        "    model.add(Conv2D(256, (4,4), activation='relu', kernel_initializer=initialize_weights,\n",
        "                     bias_initializer=initialize_bias, kernel_regularizer=l2(2e-4)))\n",
        "    model.add(Flatten())\n",
        "    model.add(Dense(4096, activation='sigmoid', kernel_regularizer=l2(1e-3),\n",
        "                   kernel_initializer=initialize_weights,bias_initializer=initialize_bias))\n",
        "\n",
        "    return model"
      ],
      "execution_count": null,
      "outputs": []
    },
    {
      "cell_type": "code",
      "metadata": {
        "colab": {
          "base_uri": "https://localhost:8080/"
        },
        "id": "WsPjdBch9Vwm",
        "outputId": "630ea59c-3ab2-4e07-e9d8-f547f8d25805"
      },
      "source": [
        "embedding_model = get_embedding_model(input_shape)\n",
        "embedding_model.summary()"
      ],
      "execution_count": null,
      "outputs": [
        {
          "output_type": "stream",
          "name": "stdout",
          "text": [
            "Model: \"sequential_7\"\n",
            "_________________________________________________________________\n",
            "Layer (type)                 Output Shape              Param #   \n",
            "=================================================================\n",
            "sequential_8 (Sequential)    (None, 128, 128, 3)       0         \n",
            "_________________________________________________________________\n",
            "conv2d_30 (Conv2D)           (None, 119, 119, 64)      19264     \n",
            "_________________________________________________________________\n",
            "conv2d_31 (Conv2D)           (None, 110, 110, 64)      409664    \n",
            "_________________________________________________________________\n",
            "max_pooling2d_18 (MaxPooling (None, 55, 55, 64)        0         \n",
            "_________________________________________________________________\n",
            "dropout_6 (Dropout)          (None, 55, 55, 64)        0         \n",
            "_________________________________________________________________\n",
            "conv2d_32 (Conv2D)           (None, 49, 49, 128)       401536    \n",
            "_________________________________________________________________\n",
            "max_pooling2d_19 (MaxPooling (None, 24, 24, 128)       0         \n",
            "_________________________________________________________________\n",
            "conv2d_33 (Conv2D)           (None, 21, 21, 128)       262272    \n",
            "_________________________________________________________________\n",
            "max_pooling2d_20 (MaxPooling (None, 10, 10, 128)       0         \n",
            "_________________________________________________________________\n",
            "dropout_7 (Dropout)          (None, 10, 10, 128)       0         \n",
            "_________________________________________________________________\n",
            "conv2d_34 (Conv2D)           (None, 7, 7, 256)         524544    \n",
            "_________________________________________________________________\n",
            "flatten_6 (Flatten)          (None, 12544)             0         \n",
            "_________________________________________________________________\n",
            "dense_9 (Dense)              (None, 4096)              51384320  \n",
            "=================================================================\n",
            "Total params: 53,001,600\n",
            "Trainable params: 53,001,600\n",
            "Non-trainable params: 0\n",
            "_________________________________________________________________\n"
          ]
        }
      ]
    },
    {
      "cell_type": "code",
      "metadata": {
        "id": "gpOKtguw6zvu"
      },
      "source": [
        "def get_siamese_model(input_shape):\n",
        "    \"\"\"\n",
        "        Model architecture based on the one provided in: http://www.cs.utoronto.ca/~gkoch/files/msc-thesis.pdf\n",
        "    \"\"\"\n",
        "    \n",
        "    # Define the tensors for the two input images\n",
        "    left_input = Input(input_shape)\n",
        "    right_input = Input(input_shape)\n",
        "    \n",
        "    # Convolutional Neural Network\n",
        "    model = get_embedding_model(input_shape)\n",
        "    \n",
        "    # Generate the encodings (feature vectors) for the two images\n",
        "    encoded_l = model(left_input)\n",
        "    encoded_r = model(right_input)\n",
        "    \n",
        "    # Add a customized layer to compute the absolute difference between the encodings\n",
        "    L1_layer = Lambda(lambda tensors:K.abs(tensors[0] - tensors[1]))\n",
        "    L1_distance = L1_layer([encoded_l, encoded_r])\n",
        "    \n",
        "    # Add a dense layer with a sigmoid unit to generate the similarity score\n",
        "    prediction = Dense(1, activation = 'sigmoid')(L1_distance)\n",
        "    \n",
        "    # Connect the inputs with the outputs\n",
        "    siamese_net = Model(inputs = [left_input, right_input], outputs = prediction)\n",
        "    \n",
        "    # return the model\n",
        "    return siamese_net"
      ],
      "execution_count": null,
      "outputs": []
    },
    {
      "cell_type": "code",
      "metadata": {
        "id": "AgjbEEM57Fpw",
        "colab": {
          "base_uri": "https://localhost:8080/"
        },
        "outputId": "dabf2e12-b306-46bf-921a-40dd14616cf8"
      },
      "source": [
        "model = get_siamese_model(input_shape)\n",
        "optimizer = Adam(learning_rate= 0.00006)\n",
        "model.compile(loss=\"binary_crossentropy\",optimizer=optimizer, metrics=[\"accuracy\"])\n",
        "model.summary()"
      ],
      "execution_count": null,
      "outputs": [
        {
          "output_type": "stream",
          "name": "stdout",
          "text": [
            "Model: \"model_3\"\n",
            "__________________________________________________________________________________________________\n",
            "Layer (type)                    Output Shape         Param #     Connected to                     \n",
            "==================================================================================================\n",
            "input_7 (InputLayer)            [(None, 128, 128, 3) 0                                            \n",
            "__________________________________________________________________________________________________\n",
            "input_8 (InputLayer)            [(None, 128, 128, 3) 0                                            \n",
            "__________________________________________________________________________________________________\n",
            "sequential_9 (Sequential)       (None, 4096)         53001600    input_7[0][0]                    \n",
            "                                                                 input_8[0][0]                    \n",
            "__________________________________________________________________________________________________\n",
            "lambda_3 (Lambda)               (None, 4096)         0           sequential_9[0][0]               \n",
            "                                                                 sequential_9[1][0]               \n",
            "__________________________________________________________________________________________________\n",
            "dense_11 (Dense)                (None, 1)            4097        lambda_3[0][0]                   \n",
            "==================================================================================================\n",
            "Total params: 53,005,697\n",
            "Trainable params: 53,005,697\n",
            "Non-trainable params: 0\n",
            "__________________________________________________________________________________________________\n"
          ]
        }
      ]
    },
    {
      "cell_type": "code",
      "metadata": {
        "id": "8Fe-UcSEUDgV"
      },
      "source": [
        "model = tf.keras.models.load_model(\"model.h5\")"
      ],
      "execution_count": null,
      "outputs": []
    },
    {
      "cell_type": "markdown",
      "metadata": {
        "id": "mjiGAwAEDHbQ"
      },
      "source": [
        "## Train Model"
      ]
    },
    {
      "cell_type": "code",
      "metadata": {
        "id": "0VMJTCrfJhyP"
      },
      "source": [
        "def get_batch(batch_size, s=\"train\"):\n",
        "    \"\"\"Create batch of n pairs, half same class, half different class\"\"\"\n",
        "    if s == 'train':\n",
        "        X = x_train\n",
        "    else:\n",
        "        X = x_test\n",
        "\n",
        "    n_classes, n_examples, w, h, c = X.shape\n",
        "    \n",
        "    # randomly sample several classes to use in the batch\n",
        "    categories = rng.choice(n_classes, size=(batch_size,))\n",
        "\n",
        "    # initialize 2 empty arrays for the input image batch\n",
        "    pairs = [np.zeros((batch_size, h, w, c)) for i in range(2)]\n",
        "\n",
        "    # initialize vector for the targets\n",
        "    targets = np.zeros((batch_size,))\n",
        "\n",
        "    # make one half of it '1's, so 2nd half of batch has same class\n",
        "    targets[batch_size//2:] = 1\n",
        "\n",
        "    for i in range(batch_size):\n",
        "      category = categories[i]\n",
        "\n",
        "      idx_1 = rng.randint(0, n_examples)\n",
        "      pairs[0][i,:,:,:] = X[category, idx_1].reshape(w, h, c)\n",
        "\n",
        "      # pick images of same class for 1st half, different for 2nd\n",
        "      if i >= batch_size // 2:\n",
        "          category_2 = category  \n",
        "      else: \n",
        "          # add a random number to the category modulo n classes to ensure 2nd image has a different category\n",
        "          category_2 = (category + rng.randint(1, n_classes)) % n_classes\n",
        "        \n",
        "      idx_2 = rng.randint(0, n_examples)\n",
        "      pairs[1][i,:,:,:] = X[category_2, idx_2].reshape(w, h, c)\n",
        "\n",
        "    return pairs, targets   "
      ],
      "execution_count": null,
      "outputs": []
    },
    {
      "cell_type": "code",
      "metadata": {
        "id": "RG_eA1WvYWJG"
      },
      "source": [
        "def generate(batch_size, s=\"train\"):\n",
        "    \"\"\"a generator for batches, so model.fit_generator can be used. \"\"\"\n",
        "    while True:\n",
        "        pairs, targets = get_batch(batch_size, s)\n",
        "        yield (pairs, targets)"
      ],
      "execution_count": null,
      "outputs": []
    },
    {
      "cell_type": "code",
      "metadata": {
        "id": "vRgScoDVoGGp"
      },
      "source": [
        "batch_size = 128\n",
        "epochs = 20\n",
        "steps_per_epoch = 150"
      ],
      "execution_count": null,
      "outputs": []
    },
    {
      "cell_type": "code",
      "metadata": {
        "id": "OPsz0umRZMXp",
        "colab": {
          "base_uri": "https://localhost:8080/"
        },
        "outputId": "1370bd0f-f002-44c8-9b8e-b926bc7ae174"
      },
      "source": [
        "history = model.fit(generate(batch_size), validation_data=(get_batch(batch_size, s=\"test\")), epochs=epochs, steps_per_epoch=steps_per_epoch, verbose=1)"
      ],
      "execution_count": null,
      "outputs": [
        {
          "output_type": "stream",
          "name": "stdout",
          "text": [
            "Epoch 1/20\n",
            "150/150 [==============================] - 92s 611ms/step - loss: 3.1890 - accuracy: 0.4987 - val_loss: 2.4077 - val_accuracy: 0.5000\n",
            "Epoch 2/20\n",
            "150/150 [==============================] - 92s 613ms/step - loss: 1.9605 - accuracy: 0.4960 - val_loss: 1.6073 - val_accuracy: 0.4766\n",
            "Epoch 3/20\n",
            "150/150 [==============================] - 95s 630ms/step - loss: 1.1735 - accuracy: 0.7767 - val_loss: 1.2006 - val_accuracy: 0.6094\n",
            "Epoch 4/20\n",
            "150/150 [==============================] - 95s 631ms/step - loss: 0.8441 - accuracy: 0.8231 - val_loss: 1.0623 - val_accuracy: 0.6172\n",
            "Epoch 5/20\n",
            "150/150 [==============================] - 95s 632ms/step - loss: 0.6635 - accuracy: 0.8450 - val_loss: 0.9874 - val_accuracy: 0.6094\n",
            "Epoch 6/20\n",
            "150/150 [==============================] - 95s 631ms/step - loss: 0.5607 - accuracy: 0.8574 - val_loss: 0.9126 - val_accuracy: 0.6250\n",
            "Epoch 7/20\n",
            "150/150 [==============================] - 95s 630ms/step - loss: 0.4766 - accuracy: 0.8774 - val_loss: 0.8090 - val_accuracy: 0.6406\n",
            "Epoch 8/20\n",
            "150/150 [==============================] - 95s 631ms/step - loss: 0.3842 - accuracy: 0.9092 - val_loss: 0.9853 - val_accuracy: 0.5312\n",
            "Epoch 9/20\n",
            "150/150 [==============================] - 95s 630ms/step - loss: 0.3153 - accuracy: 0.9326 - val_loss: 0.7924 - val_accuracy: 0.6016\n",
            "Epoch 10/20\n",
            "150/150 [==============================] - 95s 631ms/step - loss: 0.2719 - accuracy: 0.9412 - val_loss: 0.8866 - val_accuracy: 0.6172\n",
            "Epoch 11/20\n",
            "150/150 [==============================] - 95s 631ms/step - loss: 0.2389 - accuracy: 0.9492 - val_loss: 0.8448 - val_accuracy: 0.6328\n",
            "Epoch 12/20\n",
            "150/150 [==============================] - 95s 631ms/step - loss: 0.2104 - accuracy: 0.9570 - val_loss: 0.9130 - val_accuracy: 0.5938\n",
            "Epoch 13/20\n",
            "150/150 [==============================] - 95s 631ms/step - loss: 0.1726 - accuracy: 0.9705 - val_loss: 0.9288 - val_accuracy: 0.5938\n",
            "Epoch 14/20\n",
            "150/150 [==============================] - 95s 631ms/step - loss: 0.1584 - accuracy: 0.9718 - val_loss: 0.9820 - val_accuracy: 0.5703\n",
            "Epoch 15/20\n",
            "150/150 [==============================] - 95s 631ms/step - loss: 0.1415 - accuracy: 0.9782 - val_loss: 0.8308 - val_accuracy: 0.6094\n",
            "Epoch 16/20\n",
            "150/150 [==============================] - 95s 632ms/step - loss: 0.1219 - accuracy: 0.9829 - val_loss: 1.0503 - val_accuracy: 0.5703\n",
            "Epoch 17/20\n",
            "150/150 [==============================] - 95s 630ms/step - loss: 0.1138 - accuracy: 0.9833 - val_loss: 0.9037 - val_accuracy: 0.5859\n",
            "Epoch 18/20\n",
            "150/150 [==============================] - 95s 632ms/step - loss: 0.1059 - accuracy: 0.9857 - val_loss: 1.1493 - val_accuracy: 0.5703\n",
            "Epoch 19/20\n",
            "150/150 [==============================] - 95s 632ms/step - loss: 0.1017 - accuracy: 0.9862 - val_loss: 0.9944 - val_accuracy: 0.6328\n",
            "Epoch 20/20\n",
            "150/150 [==============================] - 95s 631ms/step - loss: 0.0864 - accuracy: 0.9911 - val_loss: 1.0208 - val_accuracy: 0.6094\n"
          ]
        }
      ]
    },
    {
      "cell_type": "code",
      "metadata": {
        "id": "tbTptRmPn6Oy",
        "colab": {
          "base_uri": "https://localhost:8080/",
          "height": 606
        },
        "outputId": "55e46260-1bab-4b00-82e8-9218118e3467"
      },
      "source": [
        "acc = history.history['accuracy']\n",
        "val_acc = history.history['val_accuracy']\n",
        "loss = history.history['loss']\n",
        "val_loss = history.history['val_loss']\n",
        "\n",
        "epochs_range = range(epochs)\n",
        "\n",
        "plt.figure(figsize=(20, 10))\n",
        "plt.plot(epochs_range, acc, label='Training Accuracy')\n",
        "plt.plot(epochs_range, val_acc, label='Val Accuracy')\n",
        "plt.plot(epochs_range, loss, label='Training Loss')\n",
        "plt.plot(epochs_range, val_loss, label='Val Loss')\n",
        "plt.legend(loc='best')\n",
        "plt.title('Training Accuracy x Loss')\n",
        "plt.show()"
      ],
      "execution_count": null,
      "outputs": [
        {
          "output_type": "display_data",
          "data": {
            "image/png": "[encoded data removed]",
            "text/plain": [
              "<Figure size 1440x720 with 1 Axes>"
            ]
          },
          "metadata": {
            "needs_background": "light"
          }
        }
      ]
    },
    {
      "cell_type": "markdown",
      "metadata": {
        "id": "snZmOybdamhj"
      },
      "source": [
        "## Validate Model"
      ]
    },
    {
      "cell_type": "code",
      "metadata": {
        "id": "bezy-OobauM4"
      },
      "source": [
        "def generate_pairs(image, s=\"val\", expected_class=None):\n",
        "  if s == 'train':\n",
        "    X = x_train\n",
        "  else:\n",
        "    X = x_test\n",
        "\n",
        "  n_classes, n_examples, w, h, c = X.shape\n",
        "\n",
        "  pairs=[np.zeros((n_classes, w, h, c)) for i in range(2)]\n",
        "  targets = np.zeros(n_classes)\n",
        "\n",
        "  for i in range(0, n_classes):\n",
        "    idx = rng.randint(0, n_examples)\n",
        "    img = X[i, idx]\n",
        "\n",
        "    pairs[0][i,:,:,:] = image.reshape(w, h, c)\n",
        "    pairs[1][i,:,:,:] = img.reshape(w, h, c)\n",
        "\n",
        "    if expected_class is not None:\n",
        "      targets[i] = 1 if expected_class == i else 0\n",
        "\n",
        "  if expected_class != None:\n",
        "    return pairs, targets\n",
        "\n",
        "  return pairs"
      ],
      "execution_count": null,
      "outputs": []
    },
    {
      "cell_type": "code",
      "metadata": {
        "colab": {
          "base_uri": "https://localhost:8080/"
        },
        "id": "InvZXXwR2-8p",
        "outputId": "f32ba4ae-fd85-4215-b744-dc4650bcd161"
      },
      "source": [
        "test_class_names"
      ],
      "execution_count": null,
      "outputs": [
        {
          "output_type": "execute_result",
          "data": {
            "text/plain": [
              "['pepsi-garrafa',\n",
              " 'negresco',\n",
              " 'coca-lata',\n",
              " 'guarana-lata',\n",
              " 'feijao',\n",
              " 'arroz',\n",
              " 'coca-garrafa',\n",
              " 'laranja',\n",
              " 'milho-lata',\n",
              " 'maca',\n",
              " 'acucar']"
            ]
          },
          "metadata": {},
          "execution_count": 30
        }
      ]
    },
    {
      "cell_type": "code",
      "metadata": {
        "colab": {
          "base_uri": "https://localhost:8080/"
        },
        "id": "fmW-Ew2v2wis",
        "outputId": "d824cc68-60e0-4905-c3bd-6aecbce8872a"
      },
      "source": [
        "x_test.shape"
      ],
      "execution_count": null,
      "outputs": [
        {
          "output_type": "execute_result",
          "data": {
            "text/plain": [
              "(11, 329, 128, 128, 3)"
            ]
          },
          "metadata": {},
          "execution_count": 31
        }
      ]
    },
    {
      "cell_type": "code",
      "metadata": {
        "colab": {
          "base_uri": "https://localhost:8080/"
        },
        "id": "cl3J3AacYM8t",
        "outputId": "774a3b65-fd94-4ad4-d6cf-00f7dc284406"
      },
      "source": [
        "y_train"
      ],
      "execution_count": null,
      "outputs": [
        {
          "output_type": "execute_result",
          "data": {
            "text/plain": [
              "array([ 0,  1,  2,  3,  4,  5,  6,  7,  8,  9, 10])"
            ]
          },
          "metadata": {},
          "execution_count": 32
        }
      ]
    },
    {
      "cell_type": "code",
      "metadata": {
        "id": "h7Y2hSn2dMdR",
        "colab": {
          "base_uri": "https://localhost:8080/",
          "height": 285
        },
        "outputId": "ec984d89-f131-4fe3-8013-53c7a7791047"
      },
      "source": [
        "index = 2\n",
        "img_idx = 3\n",
        "expected_class = y_test[index]\n",
        "query_image = x_test[index, img_idx]\n",
        "\n",
        "plt.imshow(query_image)\n",
        "print(\"Expected class: {} - {}\".format(expected_class, class_names[expected_class]))"
      ],
      "execution_count": null,
      "outputs": [
        {
          "output_type": "stream",
          "name": "stdout",
          "text": [
            "Expected class: 2 - coca-lata\n"
          ]
        },
        {
          "output_type": "display_data",
          "data": {
            "image/png": "[encoded data removed]",
            "text/plain": [
              "<Figure size 432x288 with 1 Axes>"
            ]
          },
          "metadata": {
            "needs_background": "light"
          }
        }
      ]
    },
    {
      "cell_type": "code",
      "metadata": {
        "id": "mjKN-xxlfEHm",
        "colab": {
          "base_uri": "https://localhost:8080/"
        },
        "outputId": "8f637a06-e554-464a-8d39-2c8c9c4362ff"
      },
      "source": [
        "pairs, targets = generate_pairs(query_image, expected_class=expected_class)\n",
        "probs = model.predict(pairs)\n",
        "idx = np.argmax(probs)\n",
        "\n",
        "print(\"Predicted image as {}\".format(class_names[idx]))\n",
        "print(\"Expected prediction as {}\".format(class_names[expected_class]))"
      ],
      "execution_count": null,
      "outputs": [
        {
          "output_type": "stream",
          "name": "stdout",
          "text": [
            "Predicted image as milho-lata\n",
            "Expected prediction as coca-lata\n"
          ]
        }
      ]
    },
    {
      "cell_type": "code",
      "metadata": {
        "id": "qiLXNoRMd6qM",
        "colab": {
          "base_uri": "https://localhost:8080/"
        },
        "outputId": "be9441c4-f6ee-4d80-c5a3-d08859ba61fc"
      },
      "source": [
        "k = 100\n",
        "n_correct = 0\n",
        "for i in range(k):\n",
        "  pairs, targets = generate_pairs(query_image, expected_class=expected_class)\n",
        "  probs = model.predict(pairs)\n",
        "\n",
        "  if np.argmax(probs) == np.argmax(targets):\n",
        "    n_correct += 1\n",
        "\n",
        "percent = (100 * n_correct / k)\n",
        "print(\"Acurracy: {}%\".format(percent))"
      ],
      "execution_count": null,
      "outputs": [
        {
          "output_type": "stream",
          "name": "stdout",
          "text": [
            "Acurracy: 1.0%\n"
          ]
        }
      ]
    },
    {
      "cell_type": "code",
      "metadata": {
        "colab": {
          "base_uri": "https://localhost:8080/"
        },
        "id": "iwLMupuO7ow2",
        "outputId": "c64dc57d-09c4-4570-d278-e53153f0d7dd"
      },
      "source": [
        "pairs=[np.zeros((2, 128, 128, 3)) for i in range(2)]\n",
        "pairs[0][0,:,:,:] = x_test[0, 0]\n",
        "pairs[1][0,:,:,:] = x_test[0, 0]\n",
        "pairs[0][1,:,:,:] = x_test[0, 0]\n",
        "pairs[1][1,:,:,:] = x_test[0, 1]\n",
        "model.predict(pairs)"
      ],
      "execution_count": null,
      "outputs": [
        {
          "output_type": "execute_result",
          "data": {
            "text/plain": [
              "array([[0.51275826],\n",
              "       [0.3239513 ]], dtype=float32)"
            ]
          },
          "metadata": {},
          "execution_count": 109
        }
      ]
    },
    {
      "cell_type": "markdown",
      "metadata": {
        "id": "QqPgkrGlYOnB"
      },
      "source": [
        "## Save Model"
      ]
    },
    {
      "cell_type": "code",
      "metadata": {
        "id": "WPJXE86AZPIm"
      },
      "source": [
        "save_model_path = os.path.join(data_folder_path, \"siamese/model.h5\")\n",
        "save_model_weights_path = os.path.join(data_folder_path, \"siamese/model.weights.h5\")"
      ],
      "execution_count": null,
      "outputs": []
    },
    {
      "cell_type": "code",
      "metadata": {
        "id": "358Sq_BLrD9W"
      },
      "source": [
        "model.save(save_model_path)\n",
        "model.save_weights(save_model_weights_path)"
      ],
      "execution_count": null,
      "outputs": []
    },
    {
      "cell_type": "markdown",
      "metadata": {
        "id": "ZHQLSUjugp3W"
      },
      "source": [
        "# Triplet Loss Siamese Neural Network"
      ]
    },
    {
      "cell_type": "code",
      "metadata": {
        "id": "XZdRmGdcrRRn"
      },
      "source": [
        "!pip install umap-learn"
      ],
      "execution_count": null,
      "outputs": []
    },
    {
      "cell_type": "code",
      "metadata": {
        "id": "lHKqmkn6rUtk"
      },
      "source": [
        "import random\n",
        "import matplotlib.pyplot as plt\n",
        "import numpy as np\n",
        "import umap\n",
        "import tensorflow as tf\n",
        "from tensorflow.keras import backend as K\n",
        "from tensorflow.keras.models import Model, Sequential\n",
        "from tensorflow.keras.layers import *\n",
        "\n",
        "tf.__version__"
      ],
      "execution_count": null,
      "outputs": []
    },
    {
      "cell_type": "markdown",
      "metadata": {
        "id": "n7PK1zCJrxGJ"
      },
      "source": [
        "## Load Cifar 10 Dataset"
      ]
    },
    {
      "cell_type": "code",
      "metadata": {
        "id": "BJYkCLfarxGK"
      },
      "source": [
        "from tensorflow.keras.datasets import cifar10"
      ],
      "execution_count": null,
      "outputs": []
    },
    {
      "cell_type": "code",
      "metadata": {
        "id": "cAG9SyGbrxGK"
      },
      "source": [
        "class_names = [\"airplane\", \"automobile\", \"bird\", \"cat\", \"deer\", \"dog\", \"frog\", \"horse\", \"ship\", \"truck\"]\n",
        "classes = [0, 1, 2, 3, 4, 5, 6, 7, 8, 9]\n",
        "(x_train, y_train), (x_test, y_test) = cifar10.load_data()"
      ],
      "execution_count": null,
      "outputs": []
    },
    {
      "cell_type": "code",
      "metadata": {
        "id": "VpwYxGGmsRnH"
      },
      "source": [
        "print(x_train.shape)\n",
        "print(x_test.shape)"
      ],
      "execution_count": null,
      "outputs": []
    },
    {
      "cell_type": "code",
      "metadata": {
        "id": "05H8coBKrxGL"
      },
      "source": [
        "x_train = x_train.astype(\"float32\") / 255\n",
        "x_test = x_test.astype(\"float32\") / 255"
      ],
      "execution_count": null,
      "outputs": []
    },
    {
      "cell_type": "markdown",
      "metadata": {
        "id": "EqTrC2HZKEum"
      },
      "source": [
        "## Load Products Dataset"
      ]
    },
    {
      "cell_type": "code",
      "metadata": {
        "id": "GJLu0VdcKJvR"
      },
      "source": [
        "import os\n",
        "import imageio\n",
        "import shutil\n",
        "\n",
        "from zipfile import ZipFile\n",
        "\n",
        "cur_dir = os.getcwd()"
      ],
      "execution_count": null,
      "outputs": []
    },
    {
      "cell_type": "code",
      "metadata": {
        "id": "ust_m6kVKjUu"
      },
      "source": [
        "shutil.rmtree('./train', ignore_errors=True)\n",
        "shutil.rmtree('./test', ignore_errors=True)\n",
        "shutil.rmtree('./validation', ignore_errors=True)\n",
        "shutil.rmtree('./sample_data', ignore_errors=True)"
      ],
      "execution_count": null,
      "outputs": []
    },
    {
      "cell_type": "code",
      "metadata": {
        "id": "g1VWoFQJa92C"
      },
      "source": [
        "data_folder_path = os.path.join(os.getcwd(), \"drive/MyDrive/TCC/train_data\")\n",
        "print(data_folder_path)\n",
        "\n",
        "train_zip_path = os.path.join(data_folder_path, \"train.zip\")\n",
        "print(train_zip_path)\n",
        "\n",
        "test_zip_path = os.path.join(data_folder_path, \"test.zip\")\n",
        "print(test_zip_path)\n",
        "\n",
        "validation_zip_path = os.path.join(data_folder_path, \"validation.zip\")\n",
        "print(validation_zip_path)"
      ],
      "execution_count": null,
      "outputs": []
    },
    {
      "cell_type": "code",
      "metadata": {
        "id": "EkuAUZIxKrPE"
      },
      "source": [
        "with ZipFile(train_zip_path, 'r') as zip:\n",
        "    zip.extractall()\n",
        "    print('Unzipped train.zip')\n",
        "\n",
        "with ZipFile(test_zip_path, 'r') as zip:\n",
        "    zip.extractall()\n",
        "    print('Unzipped test.zip')\n",
        "\n",
        "with ZipFile(validation_zip_path, 'r') as zip:\n",
        "    zip.extractall()\n",
        "    print('Unzipped validation.zip')"
      ],
      "execution_count": null,
      "outputs": []
    },
    {
      "cell_type": "code",
      "metadata": {
        "id": "v7DhwKLJQgNJ"
      },
      "source": [
        "def loadData(s = \"train\"):\n",
        "  if s == \"train\":\n",
        "    data_path = os.path.join(cur_dir, \"train\")\n",
        "  elif s == \"test\":\n",
        "    data_path = os.path.join(cur_dir, \"test\")\n",
        "  else:\n",
        "    data_path = os.path.join(cur_dir, \"validation\")\n",
        "\n",
        "  x = []\n",
        "  y = []\n",
        "  classes = []\n",
        "\n",
        "  for folder in os.listdir(data_path):\n",
        "    folder_path = os.path.join(data_path, folder)\n",
        "\n",
        "    class_num = len(classes)\n",
        "    classes.append(folder)\n",
        "    for filename in os.listdir(folder_path):\n",
        "      image_path = os.path.join(folder_path, filename)\n",
        "      image = imageio.imread(image_path)\n",
        "\n",
        "      x.append((image).astype(np.float32) / 255.0)\n",
        "      y.append(class_num)\n",
        "\n",
        "  return np.stack(x), np.stack(y), classes"
      ],
      "execution_count": null,
      "outputs": []
    },
    {
      "cell_type": "code",
      "metadata": {
        "id": "s_AOq6jAWe75"
      },
      "source": [
        "x_train, y_train, class_names = loadData(\"train\")\n",
        "x_test, y_test, test_class_names = loadData(\"test\")\n",
        "x_validation, y_validation, validation_class_names = loadData(\"validation\")\n",
        "print(\"Train:\\t\\t\", x_train.shape)\n",
        "print(\"Test:\\t\\t\", x_test.shape)\n",
        "print(\"Validation:\\t\", x_validation.shape)"
      ],
      "execution_count": null,
      "outputs": []
    },
    {
      "cell_type": "code",
      "metadata": {
        "id": "ZXtWyUw-yK6n"
      },
      "source": [
        "classes = np.arange(len(class_names)).tolist()\n",
        "print(\"Indexes:\\t\", classes)\n",
        "print(\"Train:\\t\\t\", class_names)\n",
        "print(\"Test:\\t\\t\", test_class_names)\n",
        "print(\"Validation:\\t\", validation_class_names)"
      ],
      "execution_count": null,
      "outputs": []
    },
    {
      "cell_type": "code",
      "metadata": {
        "id": "CGsojnk_Yxpj"
      },
      "source": [
        "index = 2\n",
        "plt.imshow(x_train[index])\n",
        "class_names[y_train[index]]"
      ],
      "execution_count": null,
      "outputs": []
    },
    {
      "cell_type": "markdown",
      "metadata": {
        "id": "GUzcE_aq-I0K"
      },
      "source": [
        "## Load Triplet Model"
      ]
    },
    {
      "cell_type": "code",
      "metadata": {
        "id": "Ptm-a3jzrxGN"
      },
      "source": [
        "(_, w, h, c) = x_train.shape\n",
        "input_shape = (w, h, c)\n",
        "print(input_shape)"
      ],
      "execution_count": null,
      "outputs": []
    },
    {
      "cell_type": "code",
      "metadata": {
        "id": "OOpOEiU1s4aM"
      },
      "source": [
        "def triplet_data_generator(batch_size=64):\n",
        "  while True:\n",
        "    a = []\n",
        "    p = []\n",
        "    n = []\n",
        "    for _ in range(batch_size):\n",
        "      pos_neg = random.sample(classes, 2)\n",
        "      positives_samples = random.sample(list(x_train[y_train == pos_neg[0]]), 2)\n",
        "      negative_sample = random.choice(list(x_train[y_train == pos_neg[1]]))\n",
        "      a.append(positives_samples[0])\n",
        "      p.append(positives_samples[1])\n",
        "      n.append(negative_sample)\n",
        "\n",
        "    yield ([np.array(a), np.array(p), np.array(n)], np.zeros((batch_size, 1)).astype(\"float32\"))"
      ],
      "execution_count": null,
      "outputs": []
    },
    {
      "cell_type": "code",
      "metadata": {
        "id": "3fwl8n3VtJoj"
      },
      "source": [
        "def triplet_loss(y_true, y_pred):\n",
        "  out_len = 1024\n",
        "  anchor_out = y_pred[:, 0:out_len]\n",
        "  positive_out = y_pred[:, out_len:out_len*2]\n",
        "  negative_out = y_pred[:, out_len*2:out_len*3]\n",
        "\n",
        "  pos_dist = K.sum(K.abs(anchor_out - positive_out), axis=1)\n",
        "  neg_dist = K.sum(K.abs(anchor_out - negative_out), axis=1)\n",
        "\n",
        "  probs = K.softmax([pos_dist, neg_dist], axis=0)\n",
        "\n",
        "  return K.mean(K.abs(probs[0]) + K.abs(1.0 - probs[1]))"
      ],
      "execution_count": null,
      "outputs": []
    },
    {
      "cell_type": "code",
      "metadata": {
        "id": "jdze20JNtOMA"
      },
      "source": [
        "def generate_model(input_shape):\n",
        "  model = Sequential()\n",
        "  model.add(Conv2D(64, (10,10), activation='relu', input_shape=input_shape))\n",
        "  model.add(Conv2D(64, (10,10), activation='relu'))\n",
        "  model.add(MaxPooling2D())\n",
        "  model.add(Conv2D(128, (7,7), activation='relu'))\n",
        "  model.add(MaxPooling2D())\n",
        "  model.add(Conv2D(128, (4,4), activation='relu'))\n",
        "  model.add(MaxPooling2D())\n",
        "  model.add(Conv2D(256, (4,4), activation='relu'))\n",
        "  model.add(MaxPooling2D())\n",
        "  model.add(Flatten())\n",
        "  model.add(Dense(1024, activation='sigmoid'))\n",
        "\n",
        "  return model"
      ],
      "execution_count": null,
      "outputs": []
    },
    {
      "cell_type": "code",
      "metadata": {
        "id": "wTC36GOjusgy"
      },
      "source": [
        "model = generate_model(input_shape)\n",
        "model.summary()"
      ],
      "execution_count": null,
      "outputs": []
    },
    {
      "cell_type": "code",
      "metadata": {
        "id": "L82KcyXXvFzO"
      },
      "source": [
        "def generate_triplet_model(model, input_shape):\n",
        "  triplet_model_a = Input(input_shape)\n",
        "  triplet_model_p = Input(input_shape)\n",
        "  triplet_model_n = Input(input_shape)\n",
        "  triplet_model_out = Concatenate()([model(triplet_model_a), model(triplet_model_p), model(triplet_model_n)])\n",
        "  return Model([triplet_model_a, triplet_model_p, triplet_model_n], triplet_model_out)"
      ],
      "execution_count": null,
      "outputs": []
    },
    {
      "cell_type": "code",
      "metadata": {
        "id": "PqN6B7jevJ6N"
      },
      "source": [
        "triplet_model = generate_triplet_model(model, input_shape)\n",
        "triplet_model.summary()"
      ],
      "execution_count": null,
      "outputs": []
    },
    {
      "cell_type": "code",
      "metadata": {
        "id": "IRi5fyTCvW6J"
      },
      "source": [
        "triplet_model.compile(loss=triplet_loss, optimizer=\"adam\")"
      ],
      "execution_count": null,
      "outputs": []
    },
    {
      "cell_type": "code",
      "metadata": {
        "id": "zVSIGpv7vc7Z"
      },
      "source": [
        "batch_size = 16\n",
        "epochs = 20\n",
        "steps_per_epoch = 150"
      ],
      "execution_count": null,
      "outputs": []
    },
    {
      "cell_type": "code",
      "metadata": {
        "id": "ZyuyVEzFvcJY"
      },
      "source": [
        "triplet_model.fit(triplet_data_generator(batch_size), steps_per_epoch=steps_per_epoch, epochs=epochs, verbose=1)"
      ],
      "execution_count": null,
      "outputs": []
    },
    {
      "cell_type": "code",
      "metadata": {
        "id": "dccO6Ikhv-fd"
      },
      "source": [
        "save_weights_path = os.path.join(data_folder_path, \"model.weights.h5\")\n",
        "save_model_path = os.path.join(data_folder_path, \"model.h5\")"
      ],
      "execution_count": null,
      "outputs": []
    },
    {
      "cell_type": "code",
      "metadata": {
        "id": "ZHwxaIu_x2NS"
      },
      "source": [
        "triplet_model.layers[3].save_weights(save_weights_path)"
      ],
      "execution_count": null,
      "outputs": []
    },
    {
      "cell_type": "code",
      "metadata": {
        "id": "meWp_k_XHhJ9"
      },
      "source": [
        "triplet_model.save(save_model_path)"
      ],
      "execution_count": null,
      "outputs": []
    },
    {
      "cell_type": "code",
      "metadata": {
        "id": "fh_Gghu0HkWm"
      },
      "source": [
        "model_embeddings = triplet_model.layers[3].predict(x_test, verbose=1)\n",
        "print(model_embeddings.shape)"
      ],
      "execution_count": null,
      "outputs": []
    },
    {
      "cell_type": "code",
      "metadata": {
        "id": "Bt5xoh30Hsox"
      },
      "source": [
        "reduced_embeddings = umap.UMAP(n_neighbors=15, min_dist=0.3, metric=\"correlation\").fit_transform(model_embeddings)\n",
        "print(reduced_embeddings.shape)"
      ],
      "execution_count": null,
      "outputs": []
    },
    {
      "cell_type": "code",
      "metadata": {
        "id": "zP5wqu6CH3hb"
      },
      "source": [
        "\n",
        "plt.scatter(reduced_embeddings[:, 0], reduced_embeddings[:, 1], c=y_test)"
      ],
      "execution_count": null,
      "outputs": []
    }
  ]
}