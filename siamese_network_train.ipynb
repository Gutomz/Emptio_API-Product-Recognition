{
  "nbformat": 4,
  "nbformat_minor": 0,
  "metadata": {
    "colab": {
      "name": "siamese_network_train.ipynb",
      "provenance": [],
      "collapsed_sections": [
        "OicbHeXQpZz6",
        "JHID5LPLsiUq",
        "E5LtA-XApQCI",
        "mjiGAwAEDHbQ",
        "snZmOybdamhj",
        "QqPgkrGlYOnB"
      ]
    },
    "kernelspec": {
      "name": "python3",
      "display_name": "Python 3"
    },
    "language_info": {
      "name": "python"
    },
    "accelerator": "GPU"
  },
  "cells": [
    {
      "cell_type": "markdown",
      "metadata": {
        "id": "OicbHeXQpZz6"
      },
      "source": [
        "# Siamese Neural Network"
      ]
    },
    {
      "cell_type": "code",
      "metadata": {
        "id": "Oojyn2TBpVMZ"
      },
      "source": [
        "import io\n",
        "import os\n",
        "import numpy as np\n",
        "import numpy.random as rng\n",
        "\n",
        "from PIL import Image\n",
        "\n",
        "import tensorflow as tf\n",
        "from tensorflow.keras.models import Model, Sequential\n",
        "from tensorflow.keras.optimizers import Adam\n",
        "from tensorflow.keras.layers import Input, Conv2D, MaxPooling2D, Flatten, Dense, Lambda, Dropout\n",
        "from tensorflow.keras.layers.experimental.preprocessing import RandomFlip, RandomRotation\n",
        "from tensorflow.keras.regularizers import l2\n",
        "from tensorflow.keras import backend as K\n",
        "\n",
        "import matplotlib.pyplot as plt\n",
        "%matplotlib inline"
      ],
      "execution_count": 1,
      "outputs": []
    },
    {
      "cell_type": "markdown",
      "metadata": {
        "id": "JHID5LPLsiUq"
      },
      "source": [
        "## Load Cifar 10 Dataset"
      ]
    },
    {
      "cell_type": "code",
      "metadata": {
        "id": "i73Ke7kwrDOs"
      },
      "source": [
        "from tensorflow.keras.datasets import cifar10"
      ],
      "execution_count": 2,
      "outputs": []
    },
    {
      "cell_type": "code",
      "metadata": {
        "id": "SxXte_WV3sLe"
      },
      "source": [
        "class_names = [\"airplane\", \"automobile\", \"bird\", \"cat\", \"deer\", \"dog\", \"frog\", \"horse\", \"ship\", \"truck\"]\n",
        "(x_train_master, y_train_master), (x_test_master, y_test_master) = cifar10.load_data()"
      ],
      "execution_count": 3,
      "outputs": []
    },
    {
      "cell_type": "code",
      "metadata": {
        "id": "eDrJSKsq4P3d"
      },
      "source": [
        "x_train_master = x_train_master / 255.0\n",
        "x_test_master = x_test_master / 255.0"
      ],
      "execution_count": 15,
      "outputs": []
    },
    {
      "cell_type": "code",
      "metadata": {
        "id": "FoeBkS5UgV9_"
      },
      "source": [
        "def loadData(x, y, classes):\n",
        "  e = []\n",
        "  for c in range(len(classes)):\n",
        "    c_idx = [i for i, v in enumerate(y) if v[0] == c]\n",
        "\n",
        "    r = []\n",
        "    for se in x[c_idx]:\n",
        "      i = Image.fromarray(np.uint8(se))\n",
        "      i = i.resize((150, 150))\n",
        "      i = np.array(i)\n",
        "      r.append(i)\n",
        "\n",
        "    e.append(np.stack(r))\n",
        "\n",
        "  return np.stack(e)"
      ],
      "execution_count": 4,
      "outputs": []
    },
    {
      "cell_type": "code",
      "metadata": {
        "id": "4T3WokOyhEsn"
      },
      "source": [
        "x_train = loadData(x_train_master, y_train_master, class_names)\n",
        "x_test = loadData(x_test_master, y_test_master, class_names)"
      ],
      "execution_count": 5,
      "outputs": []
    },
    {
      "cell_type": "code",
      "metadata": {
        "id": "CXRhMS3bPS0T",
        "colab": {
          "base_uri": "https://localhost:8080/"
        },
        "outputId": "47123b3d-540b-4f50-d0d7-4b8ff1deea15"
      },
      "source": [
        "print(x_train.shape)\n",
        "print(x_test.shape)"
      ],
      "execution_count": 6,
      "outputs": [
        {
          "output_type": "stream",
          "name": "stdout",
          "text": [
            "(10, 5000, 150, 150, 3)\n",
            "(10, 1000, 150, 150, 3)\n"
          ]
        }
      ]
    },
    {
      "cell_type": "code",
      "metadata": {
        "id": "mQW4cJjYJ9ii"
      },
      "source": [
        "x_train = x_train / 255.0\n",
        "x_test = x_test / 255.0"
      ],
      "execution_count": null,
      "outputs": []
    },
    {
      "cell_type": "code",
      "metadata": {
        "id": "W6kctQkx5_Bd",
        "colab": {
          "base_uri": "https://localhost:8080/",
          "height": 0
        },
        "outputId": "c7644a1c-f6fb-4fb0-9a04-24c0089f73f4"
      },
      "source": [
        "index = 0\n",
        "plt.imshow(x_train_master[index])\n",
        "print(y_train_master[index, 0])\n",
        "class_names[y_train_master[index, 0]]"
      ],
      "execution_count": 7,
      "outputs": [
        {
          "output_type": "stream",
          "name": "stdout",
          "text": [
            "6\n"
          ]
        },
        {
          "output_type": "execute_result",
          "data": {
            "application/vnd.google.colaboratory.intrinsic+json": {
              "type": "string"
            },
            "text/plain": [
              "'frog'"
            ]
          },
          "metadata": {},
          "execution_count": 7
        },
        {
          "output_type": "display_data",
          "data": {
            "image/png": "[encoded data removed]",
            "text/plain": [
              "<Figure size 432x288 with 1 Axes>"
            ]
          },
          "metadata": {
            "needs_background": "light"
          }
        }
      ]
    },
    {
      "cell_type": "code",
      "metadata": {
        "colab": {
          "base_uri": "https://localhost:8080/",
          "height": 0
        },
        "id": "e_E6Lu-gK8II",
        "outputId": "df622760-b8ce-424c-91c9-ab7291dbbaa0"
      },
      "source": [
        "index = 4\n",
        "example = 3\n",
        "plt.imshow(x_train[index, example])\n",
        "class_names[index]"
      ],
      "execution_count": 15,
      "outputs": [
        {
          "output_type": "execute_result",
          "data": {
            "application/vnd.google.colaboratory.intrinsic+json": {
              "type": "string"
            },
            "text/plain": [
              "'deer'"
            ]
          },
          "metadata": {},
          "execution_count": 15
        },
        {
          "output_type": "display_data",
          "data": {
            "image/png": "[encoded data removed]",
            "text/plain": [
              "<Figure size 432x288 with 1 Axes>"
            ]
          },
          "metadata": {
            "needs_background": "light"
          }
        }
      ]
    },
    {
      "cell_type": "code",
      "metadata": {
        "id": "87b1fkJg5dv4",
        "colab": {
          "base_uri": "https://localhost:8080/"
        },
        "outputId": "c7beb51f-10b8-4906-a421-3083c94bfd87"
      },
      "source": [
        "(_, _, w, h, c) = x_train.shape\n",
        "input_shape = (w, h, c)\n",
        "print(input_shape)"
      ],
      "execution_count": 9,
      "outputs": [
        {
          "output_type": "stream",
          "name": "stdout",
          "text": [
            "(150, 150, 3)\n"
          ]
        }
      ]
    },
    {
      "cell_type": "markdown",
      "metadata": {
        "id": "E5LtA-XApQCI"
      },
      "source": [
        "## Load Stanford Online Product Dataset"
      ]
    },
    {
      "cell_type": "code",
      "metadata": {
        "id": "2DnOY7ePpWJL"
      },
      "source": [
        "import tensorflow_datasets as tfds"
      ],
      "execution_count": null,
      "outputs": []
    },
    {
      "cell_type": "code",
      "metadata": {
        "id": "DoJh_bJduwVV"
      },
      "source": [
        "ds = tfds.load('stanford_online_products', split='train')"
      ],
      "execution_count": null,
      "outputs": []
    },
    {
      "cell_type": "code",
      "metadata": {
        "id": "gZFfl-zS8fQK"
      },
      "source": [
        "def convertData(ds):\n",
        "  x = []\n",
        "  y = []\n",
        "  classes = {}\n",
        "\n",
        "  for e in ds.take(-1):\n",
        "    image = e[\"image\"].numpy()\n",
        "    label = \"{}\".format(e[\"class_id\"].numpy())\n",
        "\n",
        "    image = Image.fromarray(np.uint8(image))\n",
        "    image = image.resize((150, 150))\n",
        "    image = np.array(image)\n",
        "\n",
        "    x.append(image)\n",
        "    y.append(label)\n",
        "\n",
        "    if not label in classes.keys():\n",
        "      classes[label] = 1\n",
        "    else:\n",
        "      classes[label] += 1\n",
        "\n",
        "  return np.array(x), y, classes"
      ],
      "execution_count": null,
      "outputs": []
    },
    {
      "cell_type": "code",
      "metadata": {
        "id": "L_sG-ee5_t4z"
      },
      "source": [
        "x_train_master, y_train_master, c_train_master = convertData(ds)\n",
        "class_names = list(c_train_master.keys())"
      ],
      "execution_count": null,
      "outputs": []
    },
    {
      "cell_type": "code",
      "metadata": {
        "id": "aSSSE-vMGvg7"
      },
      "source": [
        "def getMinExamplesPerClass(classes):\n",
        "  min_value = 1000\n",
        "\n",
        "  for k in c_train_master.keys():\n",
        "    if c_train_master[k] < min_value:\n",
        "      min_value = c_train_master[k]\n",
        "\n",
        "  return min_value"
      ],
      "execution_count": null,
      "outputs": []
    },
    {
      "cell_type": "code",
      "metadata": {
        "id": "Z4wNSkp_E1jd"
      },
      "source": [
        "def loadData(x, y, classes):\n",
        "  max = getMinExamplesPerClass(classes)\n",
        "  e = []\n",
        "  for c in range(len(classes.keys())):\n",
        "    c_idx = [i for i, v in enumerate(y) if v == \"{}\".format(c)]\n",
        "    c_idx = rng.choice(c_idx, max, replace=False)\n",
        "    e.append(np.stack(x[c_idx]))\n",
        "\n",
        "  return np.stack(e)"
      ],
      "execution_count": null,
      "outputs": []
    },
    {
      "cell_type": "code",
      "metadata": {
        "id": "s9a77-PFCiwb"
      },
      "source": [
        "x_train = loadData(x_train_master, y_train_master, c_train_master)"
      ],
      "execution_count": null,
      "outputs": []
    },
    {
      "cell_type": "code",
      "metadata": {
        "id": "AkstEBq3Roo8"
      },
      "source": [
        "index = 4\n",
        "plt.imshow(x_train_master[index])\n",
        "class_names[int(y_train_master[index])]"
      ],
      "execution_count": null,
      "outputs": []
    },
    {
      "cell_type": "markdown",
      "metadata": {
        "id": "vQSduSKT6-_m"
      },
      "source": [
        "## Load Siamese Model"
      ]
    },
    {
      "cell_type": "code",
      "metadata": {
        "id": "byqGlFoUPUCy"
      },
      "source": [
        "def initialize_weights(shape, dtype=None):\n",
        "    \"\"\"\n",
        "        The paper, http://www.cs.utoronto.ca/~gkoch/files/msc-thesis.pdf\n",
        "        suggests to initialize CNN layer weights with mean as 0.0 and standard deviation of 0.01\n",
        "    \"\"\"\n",
        "    return np.random.normal(loc = 0.0, scale = 1e-2, size = shape)"
      ],
      "execution_count": 16,
      "outputs": []
    },
    {
      "cell_type": "code",
      "metadata": {
        "id": "PvFkyQyVPV1A"
      },
      "source": [
        "def initialize_bias(shape, dtype=None):\n",
        "    \"\"\"\n",
        "        The paper, http://www.cs.utoronto.ca/~gkoch/files/msc-thesis.pdf\n",
        "        suggests to initialize CNN layer bias with mean as 0.5 and standard deviation of 0.01\n",
        "    \"\"\"\n",
        "    return np.random.normal(loc = 0.5, scale = 1e-2, size = shape)"
      ],
      "execution_count": 17,
      "outputs": []
    },
    {
      "cell_type": "code",
      "metadata": {
        "id": "gpOKtguw6zvu"
      },
      "source": [
        "def get_siamese_model(input_shape):\n",
        "    \"\"\"\n",
        "        Model architecture based on the one provided in: http://www.cs.utoronto.ca/~gkoch/files/msc-thesis.pdf\n",
        "    \"\"\"\n",
        "    \n",
        "    # Define the tensors for the two input images\n",
        "    left_input = Input(input_shape)\n",
        "    right_input = Input(input_shape)\n",
        "    \n",
        "    # Convolutional Neural Network\n",
        "    # model = Sequential()\n",
        "    # model.add(Conv2D(32, 3, padding=\"same\", activation='relu', input_shape=input_shape))\n",
        "    # model.add(Conv2D(32, 3, padding=\"same\", activation='relu'))\n",
        "    # model.add(MaxPooling2D(pool_size=(2, 2)))\n",
        "    # model.add(Dropout(0.25))\n",
        "    # model.add(Conv2D(64, 3, padding=\"same\", activation='relu'))\n",
        "    # model.add(Conv2D(64, 3, padding=\"same\", activation='relu'))\n",
        "    # model.add(MaxPooling2D(pool_size=(2, 2)))\n",
        "    # model.add(Dropout(0.25))\n",
        "    # model.add(Flatten())\n",
        "    # model.add(Dense(512, activation='sigmoid'))\n",
        "\n",
        "    # Convolutional Neural Network\n",
        "    model = Sequential()\n",
        "    model.add(Conv2D(64, (10,10), activation='relu', input_shape=input_shape, \n",
        "                     kernel_initializer=initialize_weights, kernel_regularizer=l2(2e-4)))\n",
        "    model.add(MaxPooling2D())\n",
        "    model.add(Conv2D(128, (7,7), activation='relu', kernel_initializer=initialize_weights,\n",
        "                     bias_initializer=initialize_bias, kernel_regularizer=l2(2e-4)))\n",
        "    model.add(MaxPooling2D())\n",
        "    model.add(Conv2D(128, (4,4), activation='relu', kernel_initializer=initialize_weights,\n",
        "                     bias_initializer=initialize_bias, kernel_regularizer=l2(2e-4)))\n",
        "    model.add(MaxPooling2D())\n",
        "    model.add(Conv2D(256, (4,4), activation='relu', kernel_initializer=initialize_weights,\n",
        "                     bias_initializer=initialize_bias, kernel_regularizer=l2(2e-4)))\n",
        "    model.add(Flatten())\n",
        "    model.add(Dense(4096, activation='sigmoid', kernel_regularizer=l2(1e-3),\n",
        "                   kernel_initializer=initialize_weights,bias_initializer=initialize_bias))\n",
        "    \n",
        "    # Generate the encodings (feature vectors) for the two images\n",
        "    encoded_l = model(left_input)\n",
        "    encoded_r = model(right_input)\n",
        "    \n",
        "    # Add a customized layer to compute the absolute difference between the encodings\n",
        "    L1_layer = Lambda(lambda tensors:K.abs(tensors[0] - tensors[1]))\n",
        "    L1_distance = L1_layer([encoded_l, encoded_r])\n",
        "    \n",
        "    # Add a dense layer with a sigmoid unit to generate the similarity score\n",
        "    prediction = Dense(1, activation = 'sigmoid')(L1_distance)\n",
        "    \n",
        "    # Connect the inputs with the outputs\n",
        "    siamese_net = Model(inputs = [left_input, right_input], outputs = prediction)\n",
        "    \n",
        "    # return the model\n",
        "    return siamese_net"
      ],
      "execution_count": 18,
      "outputs": []
    },
    {
      "cell_type": "code",
      "metadata": {
        "colab": {
          "base_uri": "https://localhost:8080/"
        },
        "id": "AgjbEEM57Fpw",
        "outputId": "e73f6b6b-6ab3-4861-9c95-babab8339c8a"
      },
      "source": [
        "model = get_siamese_model(input_shape)\n",
        "optimizer = Adam(learning_rate= 0.00006)\n",
        "model.compile(loss=\"binary_crossentropy\",optimizer=optimizer, metrics=[\"accuracy\"])\n",
        "model.summary()"
      ],
      "execution_count": 19,
      "outputs": [
        {
          "output_type": "stream",
          "name": "stdout",
          "text": [
            "Model: \"model\"\n",
            "__________________________________________________________________________________________________\n",
            "Layer (type)                    Output Shape         Param #     Connected to                     \n",
            "==================================================================================================\n",
            "input_1 (InputLayer)            [(None, 150, 150, 3) 0                                            \n",
            "__________________________________________________________________________________________________\n",
            "input_2 (InputLayer)            [(None, 150, 150, 3) 0                                            \n",
            "__________________________________________________________________________________________________\n",
            "sequential (Sequential)         (None, 4096)         128089408   input_1[0][0]                    \n",
            "                                                                 input_2[0][0]                    \n",
            "__________________________________________________________________________________________________\n",
            "lambda (Lambda)                 (None, 4096)         0           sequential[0][0]                 \n",
            "                                                                 sequential[1][0]                 \n",
            "__________________________________________________________________________________________________\n",
            "dense_1 (Dense)                 (None, 1)            4097        lambda[0][0]                     \n",
            "==================================================================================================\n",
            "Total params: 128,093,505\n",
            "Trainable params: 128,093,505\n",
            "Non-trainable params: 0\n",
            "__________________________________________________________________________________________________\n"
          ]
        }
      ]
    },
    {
      "cell_type": "code",
      "metadata": {
        "id": "8Fe-UcSEUDgV"
      },
      "source": [
        "model = tf.keras.models.load_model(\"model.h5\")"
      ],
      "execution_count": null,
      "outputs": []
    },
    {
      "cell_type": "markdown",
      "metadata": {
        "id": "mjiGAwAEDHbQ"
      },
      "source": [
        "## Train Model"
      ]
    },
    {
      "cell_type": "code",
      "metadata": {
        "id": "0VMJTCrfJhyP"
      },
      "source": [
        "def get_batch(batch_size, s=\"train\"):\n",
        "    \"\"\"Create batch of n pairs, half same class, half different class\"\"\"\n",
        "    if s == 'train':\n",
        "        X = x_train\n",
        "    else:\n",
        "        X = x_test\n",
        "\n",
        "    n_classes, n_examples, w, h, c = X.shape\n",
        "    \n",
        "    # randomly sample several classes to use in the batch\n",
        "    categories = rng.choice(n_classes, size=(batch_size,), replace=False)\n",
        "\n",
        "    # initialize 2 empty arrays for the input image batch\n",
        "    pairs = [np.zeros((batch_size, h, w, c)) for i in range(2)]\n",
        "\n",
        "    # initialize vector for the targets\n",
        "    targets = np.zeros((batch_size,))\n",
        "\n",
        "    # make one half of it '1's, so 2nd half of batch has same class\n",
        "    targets[batch_size//2:] = 1\n",
        "\n",
        "    for i in range(batch_size):\n",
        "      category = categories[i]\n",
        "\n",
        "      idx_1 = rng.randint(0, n_examples)\n",
        "      pairs[0][i,:,:,:] = X[category, idx_1].reshape(w, h, c)\n",
        "\n",
        "      # pick images of same class for 1st half, different for 2nd\n",
        "      if i >= batch_size // 2:\n",
        "          category_2 = category  \n",
        "      else: \n",
        "          # add a random number to the category modulo n classes to ensure 2nd image has a different category\n",
        "          category_2 = (category + rng.randint(1, n_classes)) % n_classes\n",
        "        \n",
        "      idx_2 = rng.randint(0, n_examples)\n",
        "      pairs[1][i,:,:,:] = X[category_2, idx_2].reshape(w, h, c)\n",
        "\n",
        "    return pairs, targets   "
      ],
      "execution_count": 20,
      "outputs": []
    },
    {
      "cell_type": "code",
      "metadata": {
        "id": "RG_eA1WvYWJG"
      },
      "source": [
        "def generate(batch_size, s=\"train\"):\n",
        "    \"\"\"a generator for batches, so model.fit_generator can be used. \"\"\"\n",
        "    while True:\n",
        "        pairs, targets = get_batch(batch_size, s)\n",
        "        yield (pairs, targets)"
      ],
      "execution_count": 23,
      "outputs": []
    },
    {
      "cell_type": "code",
      "metadata": {
        "id": "vRgScoDVoGGp"
      },
      "source": [
        "batch_size = 10\n",
        "epochs = 100\n",
        "steps_per_epoch = 150"
      ],
      "execution_count": 22,
      "outputs": []
    },
    {
      "cell_type": "code",
      "metadata": {
        "colab": {
          "base_uri": "https://localhost:8080/"
        },
        "id": "OPsz0umRZMXp",
        "outputId": "de7d2a41-984f-452f-e2e8-571b9d4ead34"
      },
      "source": [
        "history = model.fit(generate(batch_size), epochs=epochs, steps_per_epoch=steps_per_epoch, verbose=1)"
      ],
      "execution_count": 24,
      "outputs": [
        {
          "output_type": "stream",
          "name": "stdout",
          "text": [
            "Epoch 1/100\n",
            "150/150 [==============================] - 72s 281ms/step - loss: 10.2604 - accuracy: 0.5047\n",
            "Epoch 2/100\n",
            "150/150 [==============================] - 42s 280ms/step - loss: 5.8956 - accuracy: 0.5187\n",
            "Epoch 3/100\n",
            "150/150 [==============================] - 42s 279ms/step - loss: 3.6816 - accuracy: 0.5247\n",
            "Epoch 4/100\n",
            "150/150 [==============================] - 42s 279ms/step - loss: 2.5216 - accuracy: 0.5107\n",
            "Epoch 5/100\n",
            "150/150 [==============================] - 42s 278ms/step - loss: 1.8476 - accuracy: 0.4993\n",
            "Epoch 6/100\n",
            "150/150 [==============================] - 42s 278ms/step - loss: 1.4380 - accuracy: 0.5053\n",
            "Epoch 7/100\n",
            "150/150 [==============================] - 42s 278ms/step - loss: 1.1831 - accuracy: 0.5107\n",
            "Epoch 8/100\n",
            "150/150 [==============================] - 42s 278ms/step - loss: 1.0210 - accuracy: 0.4993\n",
            "Epoch 9/100\n",
            "150/150 [==============================] - 42s 278ms/step - loss: 0.9157 - accuracy: 0.4993\n",
            "Epoch 10/100\n",
            "150/150 [==============================] - 42s 278ms/step - loss: 0.8529 - accuracy: 0.5113\n",
            "Epoch 11/100\n",
            "150/150 [==============================] - 42s 278ms/step - loss: 0.8067 - accuracy: 0.5027\n",
            "Epoch 12/100\n",
            "150/150 [==============================] - 42s 278ms/step - loss: 0.7776 - accuracy: 0.5040\n",
            "Epoch 13/100\n",
            "150/150 [==============================] - 42s 277ms/step - loss: 0.7623 - accuracy: 0.4993\n",
            "Epoch 14/100\n",
            "150/150 [==============================] - 41s 275ms/step - loss: 0.7488 - accuracy: 0.4993\n",
            "Epoch 15/100\n",
            "150/150 [==============================] - 41s 276ms/step - loss: 0.7374 - accuracy: 0.4987\n",
            "Epoch 16/100\n",
            "150/150 [==============================] - 41s 276ms/step - loss: 0.7310 - accuracy: 0.4993\n",
            "Epoch 17/100\n",
            "150/150 [==============================] - 41s 276ms/step - loss: 0.7283 - accuracy: 0.4927\n",
            "Epoch 18/100\n",
            "150/150 [==============================] - 41s 276ms/step - loss: 0.7235 - accuracy: 0.4973\n",
            "Epoch 19/100\n",
            "150/150 [==============================] - 41s 277ms/step - loss: 0.7211 - accuracy: 0.4993\n",
            "Epoch 20/100\n",
            "150/150 [==============================] - 42s 278ms/step - loss: 0.7192 - accuracy: 0.4933\n",
            "Epoch 21/100\n",
            "150/150 [==============================] - 42s 279ms/step - loss: 0.7209 - accuracy: 0.4953\n",
            "Epoch 22/100\n",
            "150/150 [==============================] - 42s 279ms/step - loss: 0.7194 - accuracy: 0.5080\n",
            "Epoch 23/100\n",
            "150/150 [==============================] - 42s 279ms/step - loss: 0.7209 - accuracy: 0.4973\n",
            "Epoch 24/100\n",
            "150/150 [==============================] - 42s 278ms/step - loss: 0.7190 - accuracy: 0.5100\n",
            "Epoch 25/100\n",
            "150/150 [==============================] - 42s 278ms/step - loss: 0.7175 - accuracy: 0.5140\n",
            "Epoch 26/100\n",
            "150/150 [==============================] - 42s 278ms/step - loss: 0.7165 - accuracy: 0.5113\n",
            "Epoch 27/100\n",
            "150/150 [==============================] - 42s 278ms/step - loss: 0.7157 - accuracy: 0.4967\n",
            "Epoch 28/100\n",
            "150/150 [==============================] - 42s 278ms/step - loss: 0.7168 - accuracy: 0.5047\n",
            "Epoch 29/100\n",
            "150/150 [==============================] - 42s 278ms/step - loss: 0.7197 - accuracy: 0.4900\n",
            "Epoch 30/100\n",
            "150/150 [==============================] - 42s 278ms/step - loss: 0.7180 - accuracy: 0.5020\n",
            "Epoch 31/100\n",
            "150/150 [==============================] - 42s 278ms/step - loss: 0.7194 - accuracy: 0.5007\n",
            "Epoch 32/100\n",
            "150/150 [==============================] - 42s 278ms/step - loss: 0.7221 - accuracy: 0.4947\n",
            "Epoch 33/100\n",
            "150/150 [==============================] - 42s 278ms/step - loss: 0.7191 - accuracy: 0.5020\n",
            "Epoch 34/100\n",
            "150/150 [==============================] - 42s 278ms/step - loss: 0.7184 - accuracy: 0.5007\n",
            "Epoch 35/100\n",
            "150/150 [==============================] - 42s 279ms/step - loss: 0.7169 - accuracy: 0.4967\n",
            "Epoch 36/100\n",
            "150/150 [==============================] - 42s 279ms/step - loss: 0.7169 - accuracy: 0.5060\n",
            "Epoch 37/100\n",
            "150/150 [==============================] - 42s 279ms/step - loss: 0.7152 - accuracy: 0.4987\n",
            "Epoch 38/100\n",
            "150/150 [==============================] - 42s 279ms/step - loss: 0.7130 - accuracy: 0.5053\n",
            "Epoch 39/100\n",
            "150/150 [==============================] - 42s 280ms/step - loss: 0.7123 - accuracy: 0.5033\n",
            "Epoch 40/100\n",
            "150/150 [==============================] - 42s 279ms/step - loss: 0.7112 - accuracy: 0.5007\n",
            "Epoch 41/100\n",
            "150/150 [==============================] - 42s 279ms/step - loss: 0.7089 - accuracy: 0.4980\n",
            "Epoch 42/100\n",
            "150/150 [==============================] - 42s 279ms/step - loss: 0.7103 - accuracy: 0.4953\n",
            "Epoch 43/100\n",
            "150/150 [==============================] - 42s 279ms/step - loss: 0.7098 - accuracy: 0.4987\n",
            "Epoch 44/100\n",
            "150/150 [==============================] - 42s 278ms/step - loss: 0.7088 - accuracy: 0.5060\n",
            "Epoch 45/100\n",
            "150/150 [==============================] - 42s 279ms/step - loss: 0.7068 - accuracy: 0.4993\n",
            "Epoch 46/100\n",
            "150/150 [==============================] - 42s 279ms/step - loss: 0.7060 - accuracy: 0.5033\n",
            "Epoch 47/100\n",
            "150/150 [==============================] - 42s 278ms/step - loss: 0.7116 - accuracy: 0.4980\n",
            "Epoch 48/100\n",
            "150/150 [==============================] - 42s 278ms/step - loss: 0.7105 - accuracy: 0.4947\n",
            "Epoch 49/100\n",
            "150/150 [==============================] - 42s 278ms/step - loss: 0.7110 - accuracy: 0.5013\n",
            "Epoch 50/100\n",
            "150/150 [==============================] - 42s 279ms/step - loss: 0.7098 - accuracy: 0.5013\n",
            "Epoch 51/100\n",
            "150/150 [==============================] - 42s 278ms/step - loss: 0.7096 - accuracy: 0.4887\n",
            "Epoch 52/100\n",
            "150/150 [==============================] - 42s 278ms/step - loss: 0.7103 - accuracy: 0.5007\n",
            "Epoch 53/100\n",
            "150/150 [==============================] - 42s 278ms/step - loss: 0.7095 - accuracy: 0.5100\n",
            "Epoch 54/100\n",
            "150/150 [==============================] - 42s 277ms/step - loss: 0.7222 - accuracy: 0.4933\n",
            "Epoch 55/100\n",
            "150/150 [==============================] - 42s 277ms/step - loss: 0.7159 - accuracy: 0.4967\n",
            "Epoch 56/100\n",
            "150/150 [==============================] - 42s 277ms/step - loss: 0.7171 - accuracy: 0.4973\n",
            "Epoch 57/100\n",
            "150/150 [==============================] - 41s 275ms/step - loss: 0.7269 - accuracy: 0.4953\n",
            "Epoch 58/100\n",
            "150/150 [==============================] - 42s 277ms/step - loss: 0.7173 - accuracy: 0.5000\n",
            "Epoch 59/100\n",
            "150/150 [==============================] - 42s 278ms/step - loss: 0.7135 - accuracy: 0.4973\n",
            "Epoch 60/100\n",
            "150/150 [==============================] - 42s 278ms/step - loss: 0.7110 - accuracy: 0.4973\n",
            "Epoch 61/100\n",
            "150/150 [==============================] - 42s 278ms/step - loss: 0.7093 - accuracy: 0.4967\n",
            "Epoch 62/100\n",
            "150/150 [==============================] - 42s 278ms/step - loss: 0.7078 - accuracy: 0.5007\n",
            "Epoch 63/100\n",
            "150/150 [==============================] - 42s 278ms/step - loss: 0.7070 - accuracy: 0.5047\n",
            "Epoch 64/100\n",
            "150/150 [==============================] - 42s 278ms/step - loss: 0.7063 - accuracy: 0.4980\n",
            "Epoch 65/100\n",
            "150/150 [==============================] - 42s 278ms/step - loss: 0.7062 - accuracy: 0.5053\n",
            "Epoch 66/100\n",
            "150/150 [==============================] - 42s 278ms/step - loss: 0.7062 - accuracy: 0.5047\n",
            "Epoch 67/100\n",
            "150/150 [==============================] - 42s 279ms/step - loss: 0.7068 - accuracy: 0.4967\n",
            "Epoch 68/100\n",
            "150/150 [==============================] - 42s 279ms/step - loss: 0.7066 - accuracy: 0.4960\n",
            "Epoch 69/100\n",
            "150/150 [==============================] - 42s 278ms/step - loss: 0.7092 - accuracy: 0.5020\n",
            "Epoch 70/100\n",
            "150/150 [==============================] - 42s 278ms/step - loss: 0.7102 - accuracy: 0.5147\n",
            "Epoch 71/100\n",
            "150/150 [==============================] - 42s 278ms/step - loss: 0.7111 - accuracy: 0.5033\n",
            "Epoch 72/100\n",
            "150/150 [==============================] - 42s 278ms/step - loss: 0.7132 - accuracy: 0.5020\n",
            "Epoch 73/100\n",
            "150/150 [==============================] - 42s 277ms/step - loss: 0.7149 - accuracy: 0.5040\n",
            "Epoch 74/100\n",
            "150/150 [==============================] - 41s 276ms/step - loss: 0.7174 - accuracy: 0.5047\n",
            "Epoch 75/100\n",
            "150/150 [==============================] - 42s 277ms/step - loss: 0.7176 - accuracy: 0.5093\n",
            "Epoch 76/100\n",
            "150/150 [==============================] - 42s 277ms/step - loss: 0.7181 - accuracy: 0.4987\n",
            "Epoch 77/100\n",
            "150/150 [==============================] - 42s 277ms/step - loss: 0.7175 - accuracy: 0.5093\n",
            "Epoch 78/100\n",
            "150/150 [==============================] - 41s 276ms/step - loss: 0.7253 - accuracy: 0.4987\n",
            "Epoch 79/100\n",
            "150/150 [==============================] - 41s 276ms/step - loss: 0.7251 - accuracy: 0.4973\n",
            "Epoch 80/100\n",
            "150/150 [==============================] - 41s 276ms/step - loss: 0.7222 - accuracy: 0.4947\n",
            "Epoch 81/100\n",
            "150/150 [==============================] - 42s 277ms/step - loss: 0.7204 - accuracy: 0.5113\n",
            "Epoch 82/100\n",
            "150/150 [==============================] - 41s 276ms/step - loss: 0.7196 - accuracy: 0.4993\n",
            "Epoch 83/100\n",
            "150/150 [==============================] - 41s 276ms/step - loss: 0.7205 - accuracy: 0.5047\n",
            "Epoch 84/100\n",
            "150/150 [==============================] - 42s 277ms/step - loss: 0.7198 - accuracy: 0.4907\n",
            "Epoch 85/100\n",
            "150/150 [==============================] - 41s 276ms/step - loss: 0.7198 - accuracy: 0.4940\n",
            "Epoch 86/100\n",
            "150/150 [==============================] - 41s 276ms/step - loss: 0.7208 - accuracy: 0.4947\n",
            "Epoch 87/100\n",
            "150/150 [==============================] - 42s 277ms/step - loss: 0.7219 - accuracy: 0.5047\n",
            "Epoch 88/100\n",
            "150/150 [==============================] - 41s 277ms/step - loss: 0.7247 - accuracy: 0.5000\n",
            "Epoch 89/100\n",
            "150/150 [==============================] - 41s 276ms/step - loss: 0.7327 - accuracy: 0.5040\n",
            "Epoch 90/100\n",
            "150/150 [==============================] - 41s 276ms/step - loss: 0.7331 - accuracy: 0.4967\n",
            "Epoch 91/100\n",
            "150/150 [==============================] - 42s 277ms/step - loss: 0.7318 - accuracy: 0.4967\n",
            "Epoch 92/100\n",
            "150/150 [==============================] - 41s 277ms/step - loss: 0.7293 - accuracy: 0.5067\n",
            "Epoch 93/100\n",
            "150/150 [==============================] - 41s 276ms/step - loss: 0.7296 - accuracy: 0.5007\n",
            "Epoch 94/100\n",
            "150/150 [==============================] - 41s 276ms/step - loss: 0.7276 - accuracy: 0.4973\n",
            "Epoch 95/100\n",
            "150/150 [==============================] - 41s 277ms/step - loss: 0.7277 - accuracy: 0.4927\n",
            "Epoch 96/100\n",
            "150/150 [==============================] - 42s 277ms/step - loss: 0.7258 - accuracy: 0.5093\n",
            "Epoch 97/100\n",
            "150/150 [==============================] - 42s 277ms/step - loss: 0.7244 - accuracy: 0.5007\n",
            "Epoch 98/100\n",
            "150/150 [==============================] - 42s 277ms/step - loss: 0.7232 - accuracy: 0.4980\n",
            "Epoch 99/100\n",
            "150/150 [==============================] - 41s 277ms/step - loss: 0.7225 - accuracy: 0.5047\n",
            "Epoch 100/100\n",
            "150/150 [==============================] - 42s 277ms/step - loss: 0.7225 - accuracy: 0.4960\n"
          ]
        }
      ]
    },
    {
      "cell_type": "code",
      "metadata": {
        "id": "tbTptRmPn6Oy"
      },
      "source": [
        "acc = history.history['accuracy']\n",
        "loss = history.history['loss']\n",
        "\n",
        "epochs_range = range(epochs)\n",
        "\n",
        "plt.figure(figsize=(10, 10))\n",
        "plt.plot(epochs_range, acc, label='Training Accuracy')\n",
        "plt.plot(epochs_range, loss, label='Training Loss')\n",
        "plt.legend(loc='best')\n",
        "plt.title('Training Accuracy x Loss')\n",
        "plt.show()"
      ],
      "execution_count": null,
      "outputs": []
    },
    {
      "cell_type": "markdown",
      "metadata": {
        "id": "snZmOybdamhj"
      },
      "source": [
        "## Validate Model"
      ]
    },
    {
      "cell_type": "code",
      "metadata": {
        "id": "bezy-OobauM4"
      },
      "source": [
        "def generate_pairs(image, s=\"val\", expected_class=None):\n",
        "  if s == 'train':\n",
        "    X = x_train\n",
        "  else:\n",
        "    X = x_test\n",
        "\n",
        "  n_classes, n_examples, w, h, c = X.shape\n",
        "  w, h, c = image.shape\n",
        "\n",
        "  pairs=[np.zeros((n_classes, w, h, c)) for i in range(2)]\n",
        "  targets = np.zeros(n_classes)\n",
        "\n",
        "  for i in range(0, n_classes):\n",
        "    idx = rng.randint(0, n_examples)\n",
        "    img = X[i, idx]\n",
        "\n",
        "    pairs[0][i,:,:,:] = image.reshape(w, h, c)\n",
        "    pairs[1][i,:,:,:] = img.reshape(w, h, c)\n",
        "\n",
        "    if expected_class is not None:\n",
        "      targets[i] = 1 if expected_class == i else 0\n",
        "\n",
        "  if expected_class != None:\n",
        "    return pairs, targets\n",
        "\n",
        "  return pairs"
      ],
      "execution_count": null,
      "outputs": []
    },
    {
      "cell_type": "code",
      "metadata": {
        "id": "h7Y2hSn2dMdR"
      },
      "source": [
        "index = 1\n",
        "expected_class = y_test_master[index, 0]\n",
        "query_image = x_test_master[index]\n",
        "\n",
        "plt.imshow(query_image)\n",
        "print(\"Expected class: {} - {}\".format(expected_class, class_names[expected_class]))"
      ],
      "execution_count": null,
      "outputs": []
    },
    {
      "cell_type": "code",
      "metadata": {
        "id": "mjKN-xxlfEHm"
      },
      "source": [
        "pairs, targets = generate_pairs(query_image, expected_class=expected_class)\n",
        "probs = model.predict(pairs)\n",
        "idx = np.argmax(probs)\n",
        "\n",
        "print(\"Predicted image as {}\".format(class_names[idx]))\n",
        "print(\"Expected prediction as {}\".format(class_names[expected_class]))"
      ],
      "execution_count": null,
      "outputs": []
    },
    {
      "cell_type": "code",
      "metadata": {
        "id": "qiLXNoRMd6qM"
      },
      "source": [
        "k = 100\n",
        "n_correct = 0\n",
        "for i in range(k):\n",
        "  pairs, targets = generate_pairs(query_image, expected_class=expected_class)\n",
        "  probs = model.predict(pairs)\n",
        "\n",
        "  if np.argmax(probs) == np.argmax(targets):\n",
        "    n_correct += 1\n",
        "\n",
        "percent = (100 * n_correct / k)\n",
        "print(\"Acurracy: {}%\".format(percent))"
      ],
      "execution_count": null,
      "outputs": []
    },
    {
      "cell_type": "markdown",
      "metadata": {
        "id": "QqPgkrGlYOnB"
      },
      "source": [
        "## Save Model"
      ]
    },
    {
      "cell_type": "code",
      "metadata": {
        "id": "358Sq_BLrD9W"
      },
      "source": [
        "model.save('model.h5', save_format=\"h5\")"
      ],
      "execution_count": null,
      "outputs": []
    },
    {
      "cell_type": "code",
      "metadata": {
        "id": "3tM_7sGtuz6K"
      },
      "source": [
        "model.save_weights('model_weights.h5')"
      ],
      "execution_count": null,
      "outputs": []
    },
    {
      "cell_type": "markdown",
      "metadata": {
        "id": "ZHQLSUjugp3W"
      },
      "source": [
        "# Triplet Loss Siamese Neural Network"
      ]
    },
    {
      "cell_type": "code",
      "metadata": {
        "colab": {
          "base_uri": "https://localhost:8080/"
        },
        "id": "XZdRmGdcrRRn",
        "outputId": "42382074-a6f0-4ee1-dfb5-83f2391166cb"
      },
      "source": [
        "!pip install umap-learn"
      ],
      "execution_count": 1,
      "outputs": [
        {
          "output_type": "stream",
          "name": "stdout",
          "text": [
            "Requirement already satisfied: umap-learn in /usr/local/lib/python3.7/dist-packages (0.5.1)\n",
            "Requirement already satisfied: numpy>=1.17 in /usr/local/lib/python3.7/dist-packages (from umap-learn) (1.19.5)\n",
            "Requirement already satisfied: scikit-learn>=0.22 in /usr/local/lib/python3.7/dist-packages (from umap-learn) (0.22.2.post1)\n",
            "Requirement already satisfied: scipy>=1.0 in /usr/local/lib/python3.7/dist-packages (from umap-learn) (1.4.1)\n",
            "Requirement already satisfied: pynndescent>=0.5 in /usr/local/lib/python3.7/dist-packages (from umap-learn) (0.5.4)\n",
            "Requirement already satisfied: numba>=0.49 in /usr/local/lib/python3.7/dist-packages (from umap-learn) (0.51.2)\n",
            "Requirement already satisfied: setuptools in /usr/local/lib/python3.7/dist-packages (from numba>=0.49->umap-learn) (57.4.0)\n",
            "Requirement already satisfied: llvmlite<0.35,>=0.34.0.dev0 in /usr/local/lib/python3.7/dist-packages (from numba>=0.49->umap-learn) (0.34.0)\n",
            "Requirement already satisfied: joblib>=0.11 in /usr/local/lib/python3.7/dist-packages (from pynndescent>=0.5->umap-learn) (1.0.1)\n"
          ]
        }
      ]
    },
    {
      "cell_type": "code",
      "metadata": {
        "colab": {
          "base_uri": "https://localhost:8080/",
          "height": 35
        },
        "id": "lHKqmkn6rUtk",
        "outputId": "1b3f572c-36ef-44ff-c93e-ddedc58a298b"
      },
      "source": [
        "import random\n",
        "import matplotlib.pyplot as plt\n",
        "import numpy as np\n",
        "import umap\n",
        "import tensorflow as tf\n",
        "from tensorflow.keras import backend as K\n",
        "from tensorflow.keras.datasets import mnist\n",
        "from tensorflow.keras.models import Model, Sequential\n",
        "from tensorflow.keras.layers import *\n",
        "\n",
        "tf.__version__"
      ],
      "execution_count": 1,
      "outputs": [
        {
          "output_type": "execute_result",
          "data": {
            "application/vnd.google.colaboratory.intrinsic+json": {
              "type": "string"
            },
            "text/plain": [
              "'2.6.0'"
            ]
          },
          "metadata": {},
          "execution_count": 1
        }
      ]
    },
    {
      "cell_type": "markdown",
      "metadata": {
        "id": "n7PK1zCJrxGJ"
      },
      "source": [
        "## Load Cifar 10 Dataset"
      ]
    },
    {
      "cell_type": "code",
      "metadata": {
        "id": "BJYkCLfarxGK"
      },
      "source": [
        "from tensorflow.keras.datasets import cifar10"
      ],
      "execution_count": 2,
      "outputs": []
    },
    {
      "cell_type": "code",
      "metadata": {
        "id": "cAG9SyGbrxGK"
      },
      "source": [
        "class_names = [\"airplane\", \"automobile\", \"bird\", \"cat\", \"deer\", \"dog\", \"frog\", \"horse\", \"ship\", \"truck\"]\n",
        "classes = [0, 1, 2, 3, 4, 5, 6, 7, 8, 9]\n",
        "(x_train, y_train), (x_test, y_test) = cifar10.load_data()"
      ],
      "execution_count": 3,
      "outputs": []
    },
    {
      "cell_type": "code",
      "metadata": {
        "colab": {
          "base_uri": "https://localhost:8080/"
        },
        "id": "VpwYxGGmsRnH",
        "outputId": "3fefb04d-370f-4c2b-b085-4618013b659a"
      },
      "source": [
        "print(x_train.shape)\n",
        "print(x_test.shape)"
      ],
      "execution_count": 4,
      "outputs": [
        {
          "output_type": "stream",
          "name": "stdout",
          "text": [
            "(50000, 32, 32, 3)\n",
            "(10000, 32, 32, 3)\n"
          ]
        }
      ]
    },
    {
      "cell_type": "code",
      "metadata": {
        "id": "05H8coBKrxGL"
      },
      "source": [
        "x_train = x_train.astype(\"float32\") / 255\n",
        "x_test = x_test.astype(\"float32\") / 255"
      ],
      "execution_count": 5,
      "outputs": []
    },
    {
      "cell_type": "code",
      "metadata": {
        "colab": {
          "base_uri": "https://localhost:8080/"
        },
        "id": "Ptm-a3jzrxGN",
        "outputId": "0b9368f7-cad3-4780-a50f-cfb9c84b4083"
      },
      "source": [
        "(_, w, h, c) = x_train.shape\n",
        "input_shape = (w, h, c)\n",
        "print(input_shape)"
      ],
      "execution_count": 6,
      "outputs": [
        {
          "output_type": "stream",
          "name": "stdout",
          "text": [
            "(32, 32, 3)\n"
          ]
        }
      ]
    },
    {
      "cell_type": "markdown",
      "metadata": {
        "id": "GUzcE_aq-I0K"
      },
      "source": [
        "## Load Triplet Model"
      ]
    },
    {
      "cell_type": "code",
      "metadata": {
        "id": "OOpOEiU1s4aM"
      },
      "source": [
        "def triplet_data_generator(batch_size=64):\n",
        "  while True:\n",
        "    a = []\n",
        "    p = []\n",
        "    n = []\n",
        "    for _ in range(batch_size):\n",
        "      pos_neg = random.sample(classes, 2)\n",
        "      positives_samples = random.sample(list(x_train[y_train[:,0] == pos_neg[0]]), 2)\n",
        "      negative_sample = random.choice(list(x_train[y_train[:,0] == pos_neg[1]]))\n",
        "      a.append(positives_samples[0])\n",
        "      p.append(positives_samples[1])\n",
        "      n.append(negative_sample)\n",
        "\n",
        "    yield ([np.array(a), np.array(p), np.array(n)], np.zeros((batch_size, 1)).astype(\"float32\"))"
      ],
      "execution_count": 7,
      "outputs": []
    },
    {
      "cell_type": "code",
      "metadata": {
        "id": "3fwl8n3VtJoj"
      },
      "source": [
        "def triplet_loss(y_true, y_pred):\n",
        "  anchor_out = y_pred[:, 0:128]\n",
        "  positive_out = y_pred[:, 128:256]\n",
        "  negative_out = y_pred[:, 256:384]\n",
        "\n",
        "  pos_dist = K.sum(K.abs(anchor_out - positive_out), axis=1)\n",
        "  neg_dist = K.sum(K.abs(anchor_out - negative_out), axis=1)\n",
        "\n",
        "  probs = K.softmax([pos_dist, neg_dist], axis=0)\n",
        "\n",
        "  return K.mean(K.abs(probs[0]) + K.abs(1.0 - probs[1]))"
      ],
      "execution_count": 8,
      "outputs": []
    },
    {
      "cell_type": "code",
      "metadata": {
        "id": "jdze20JNtOMA"
      },
      "source": [
        "def generate_model(input_shape):\n",
        "  model = Sequential()\n",
        "  model.add(Conv2D(32, 3, padding=\"same\", activation='relu', input_shape=input_shape))\n",
        "  model.add(MaxPooling2D(2, 2))\n",
        "  model.add(Conv2D(64, 3, padding=\"same\", activation='relu'))\n",
        "  model.add(MaxPooling2D(2, 2))\n",
        "  model.add(Flatten())\n",
        "  model.add(Dense(128, activation='sigmoid'))\n",
        "\n",
        "  return model"
      ],
      "execution_count": 9,
      "outputs": []
    },
    {
      "cell_type": "code",
      "metadata": {
        "colab": {
          "base_uri": "https://localhost:8080/"
        },
        "id": "wTC36GOjusgy",
        "outputId": "ab2a1eff-93e9-4e24-a16f-472d484c0805"
      },
      "source": [
        "model = generate_model(input_shape)\n",
        "model.summary()"
      ],
      "execution_count": 10,
      "outputs": [
        {
          "output_type": "stream",
          "name": "stdout",
          "text": [
            "Model: \"sequential\"\n",
            "_________________________________________________________________\n",
            "Layer (type)                 Output Shape              Param #   \n",
            "=================================================================\n",
            "conv2d (Conv2D)              (None, 32, 32, 32)        896       \n",
            "_________________________________________________________________\n",
            "max_pooling2d (MaxPooling2D) (None, 16, 16, 32)        0         \n",
            "_________________________________________________________________\n",
            "conv2d_1 (Conv2D)            (None, 16, 16, 64)        18496     \n",
            "_________________________________________________________________\n",
            "max_pooling2d_1 (MaxPooling2 (None, 8, 8, 64)          0         \n",
            "_________________________________________________________________\n",
            "flatten (Flatten)            (None, 4096)              0         \n",
            "_________________________________________________________________\n",
            "dense (Dense)                (None, 128)               524416    \n",
            "=================================================================\n",
            "Total params: 543,808\n",
            "Trainable params: 543,808\n",
            "Non-trainable params: 0\n",
            "_________________________________________________________________\n"
          ]
        }
      ]
    },
    {
      "cell_type": "code",
      "metadata": {
        "id": "L82KcyXXvFzO"
      },
      "source": [
        "def generate_triplet_model(model, input_shape):\n",
        "  triplet_model_a = Input(input_shape)\n",
        "  triplet_model_p = Input(input_shape)\n",
        "  triplet_model_n = Input(input_shape)\n",
        "  triplet_model_out = Concatenate()([model(triplet_model_a), model(triplet_model_p), model(triplet_model_n)])\n",
        "  return Model([triplet_model_a, triplet_model_p, triplet_model_n], triplet_model_out)"
      ],
      "execution_count": 11,
      "outputs": []
    },
    {
      "cell_type": "code",
      "metadata": {
        "colab": {
          "base_uri": "https://localhost:8080/"
        },
        "id": "PqN6B7jevJ6N",
        "outputId": "8e6bdec8-97ce-4658-f194-59661c40cf1e"
      },
      "source": [
        "triplet_model = generate_triplet_model(model, input_shape)\n",
        "triplet_model.summary()"
      ],
      "execution_count": 12,
      "outputs": [
        {
          "output_type": "stream",
          "name": "stdout",
          "text": [
            "Model: \"model\"\n",
            "__________________________________________________________________________________________________\n",
            "Layer (type)                    Output Shape         Param #     Connected to                     \n",
            "==================================================================================================\n",
            "input_1 (InputLayer)            [(None, 32, 32, 3)]  0                                            \n",
            "__________________________________________________________________________________________________\n",
            "input_2 (InputLayer)            [(None, 32, 32, 3)]  0                                            \n",
            "__________________________________________________________________________________________________\n",
            "input_3 (InputLayer)            [(None, 32, 32, 3)]  0                                            \n",
            "__________________________________________________________________________________________________\n",
            "sequential (Sequential)         (None, 128)          543808      input_1[0][0]                    \n",
            "                                                                 input_2[0][0]                    \n",
            "                                                                 input_3[0][0]                    \n",
            "__________________________________________________________________________________________________\n",
            "concatenate (Concatenate)       (None, 384)          0           sequential[0][0]                 \n",
            "                                                                 sequential[1][0]                 \n",
            "                                                                 sequential[2][0]                 \n",
            "==================================================================================================\n",
            "Total params: 543,808\n",
            "Trainable params: 543,808\n",
            "Non-trainable params: 0\n",
            "__________________________________________________________________________________________________\n"
          ]
        }
      ]
    },
    {
      "cell_type": "code",
      "metadata": {
        "id": "IRi5fyTCvW6J"
      },
      "source": [
        "triplet_model.compile(loss=triplet_loss, optimizer=\"adam\")"
      ],
      "execution_count": 13,
      "outputs": []
    },
    {
      "cell_type": "code",
      "metadata": {
        "id": "zVSIGpv7vc7Z"
      },
      "source": [
        "batch_size = 64\n",
        "epochs = 10\n",
        "steps_per_epoch = 150"
      ],
      "execution_count": 14,
      "outputs": []
    },
    {
      "cell_type": "code",
      "metadata": {
        "colab": {
          "base_uri": "https://localhost:8080/"
        },
        "id": "ZyuyVEzFvcJY",
        "outputId": "8934af6b-66f7-4b45-f16c-cb5275abb37c"
      },
      "source": [
        "history = triplet_model.fit(triplet_data_generator(batch_size), steps_per_epoch=steps_per_epoch, epochs=epochs, verbose=1)"
      ],
      "execution_count": null,
      "outputs": [
        {
          "output_type": "stream",
          "name": "stdout",
          "text": [
            "Epoch 1/10\n",
            "150/150 [==============================] - 406s 3s/step - loss: 0.7235\n",
            "Epoch 2/10\n",
            "150/150 [==============================] - 380s 3s/step - loss: 0.6633\n",
            "Epoch 3/10\n",
            " 28/150 [====>.........................] - ETA: 5:10 - loss: 0.6424"
          ]
        }
      ]
    },
    {
      "cell_type": "code",
      "metadata": {
        "id": "meWp_k_XHhJ9"
      },
      "source": [
        "triplet_model.save(\"triplet.h5\")"
      ],
      "execution_count": 19,
      "outputs": []
    },
    {
      "cell_type": "code",
      "metadata": {
        "colab": {
          "base_uri": "https://localhost:8080/"
        },
        "id": "fh_Gghu0HkWm",
        "outputId": "53ae9482-3c99-4e6a-9098-026172f02081"
      },
      "source": [
        "model_embeddings = triplet_model.layers[3].predict(x_test, verbose=1)\n",
        "print(model_embeddings.shape)"
      ],
      "execution_count": 20,
      "outputs": [
        {
          "output_type": "stream",
          "name": "stdout",
          "text": [
            "313/313 [==============================] - 1s 2ms/step\n",
            "(10000, 128)\n"
          ]
        }
      ]
    },
    {
      "cell_type": "code",
      "metadata": {
        "colab": {
          "base_uri": "https://localhost:8080/"
        },
        "id": "Bt5xoh30Hsox",
        "outputId": "f5147bb6-8459-4408-92f2-6498ae758fca"
      },
      "source": [
        "reduced_embeddings = umap.UMAP(n_neighbors=15, min_dist=0.3, metric=\"correlation\").fit_transform(model_embeddings)\n",
        "print(reduced_embeddings.shape)"
      ],
      "execution_count": 21,
      "outputs": [
        {
          "output_type": "stream",
          "name": "stderr",
          "text": [
            "/usr/local/lib/python3.7/dist-packages/numba/np/ufunc/parallel.py:363: NumbaWarning: The TBB threading layer requires TBB version 2019.5 or later i.e., TBB_INTERFACE_VERSION >= 11005. Found TBB_INTERFACE_VERSION = 9107. The TBB threading layer is disabled.\n",
            "  warnings.warn(problem)\n"
          ]
        },
        {
          "output_type": "stream",
          "name": "stdout",
          "text": [
            "(10000, 2)\n"
          ]
        }
      ]
    },
    {
      "cell_type": "code",
      "metadata": {
        "colab": {
          "base_uri": "https://localhost:8080/",
          "height": 282
        },
        "id": "zP5wqu6CH3hb",
        "outputId": "54f80a9e-b24d-4c52-b7d3-05622da33ae8"
      },
      "source": [
        "\n",
        "plt.scatter(reduced_embeddings[:, 0], reduced_embeddings[:, 1], c=y_test)"
      ],
      "execution_count": 22,
      "outputs": [
        {
          "output_type": "execute_result",
          "data": {
            "text/plain": [
              "<matplotlib.collections.PathCollection at 0x7ff4000eaa50>"
            ]
          },
          "metadata": {},
          "execution_count": 22
        },
        {
          "output_type": "display_data",
          "data": {
            "image/png": "[encoded data removed]",
            "text/plain": [
              "<Figure size 432x288 with 1 Axes>"
            ]
          },
          "metadata": {
            "needs_background": "light"
          }
        }
      ]
    }
  ]
}